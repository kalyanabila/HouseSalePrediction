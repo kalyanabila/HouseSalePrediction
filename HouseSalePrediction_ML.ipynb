{
 "cells": [
  {
   "cell_type": "code",
   "execution_count": 1,
   "metadata": {},
   "outputs": [],
   "source": [
    "import pandas as pd\n",
    "import numpy as np\n",
    "import matplotlib.pyplot as plt\n",
    "import seaborn as sns\n",
    "\n",
    "%matplotlib inline\n",
    "\n",
    "import warnings\n",
    "warnings.filterwarnings('ignore')"
   ]
  },
  {
   "cell_type": "code",
   "execution_count": 2,
   "metadata": {},
   "outputs": [
    {
     "data": {
      "text/html": [
       "<div>\n",
       "<style scoped>\n",
       "    .dataframe tbody tr th:only-of-type {\n",
       "        vertical-align: middle;\n",
       "    }\n",
       "\n",
       "    .dataframe tbody tr th {\n",
       "        vertical-align: top;\n",
       "    }\n",
       "\n",
       "    .dataframe thead th {\n",
       "        text-align: right;\n",
       "    }\n",
       "</style>\n",
       "<table border=\"1\" class=\"dataframe\">\n",
       "  <thead>\n",
       "    <tr style=\"text-align: right;\">\n",
       "      <th></th>\n",
       "      <th>id</th>\n",
       "      <th>date</th>\n",
       "      <th>price</th>\n",
       "      <th>bedrooms</th>\n",
       "      <th>bathrooms</th>\n",
       "      <th>sqft_living</th>\n",
       "      <th>sqft_lot</th>\n",
       "      <th>floors</th>\n",
       "      <th>waterfront</th>\n",
       "      <th>view</th>\n",
       "      <th>...</th>\n",
       "      <th>grade</th>\n",
       "      <th>sqft_above</th>\n",
       "      <th>sqft_basement</th>\n",
       "      <th>yr_built</th>\n",
       "      <th>yr_renovated</th>\n",
       "      <th>zipcode</th>\n",
       "      <th>lat</th>\n",
       "      <th>long</th>\n",
       "      <th>sqft_living15</th>\n",
       "      <th>sqft_lot15</th>\n",
       "    </tr>\n",
       "  </thead>\n",
       "  <tbody>\n",
       "    <tr>\n",
       "      <th>0</th>\n",
       "      <td>7129300520</td>\n",
       "      <td>20141013T000000</td>\n",
       "      <td>221900.0</td>\n",
       "      <td>3</td>\n",
       "      <td>1.00</td>\n",
       "      <td>1180</td>\n",
       "      <td>5650</td>\n",
       "      <td>1.0</td>\n",
       "      <td>0</td>\n",
       "      <td>0</td>\n",
       "      <td>...</td>\n",
       "      <td>7</td>\n",
       "      <td>1180</td>\n",
       "      <td>0</td>\n",
       "      <td>1955</td>\n",
       "      <td>0</td>\n",
       "      <td>98178</td>\n",
       "      <td>47.5112</td>\n",
       "      <td>-122.257</td>\n",
       "      <td>1340</td>\n",
       "      <td>5650</td>\n",
       "    </tr>\n",
       "    <tr>\n",
       "      <th>1</th>\n",
       "      <td>6414100192</td>\n",
       "      <td>20141209T000000</td>\n",
       "      <td>538000.0</td>\n",
       "      <td>3</td>\n",
       "      <td>2.25</td>\n",
       "      <td>2570</td>\n",
       "      <td>7242</td>\n",
       "      <td>2.0</td>\n",
       "      <td>0</td>\n",
       "      <td>0</td>\n",
       "      <td>...</td>\n",
       "      <td>7</td>\n",
       "      <td>2170</td>\n",
       "      <td>400</td>\n",
       "      <td>1951</td>\n",
       "      <td>1991</td>\n",
       "      <td>98125</td>\n",
       "      <td>47.7210</td>\n",
       "      <td>-122.319</td>\n",
       "      <td>1690</td>\n",
       "      <td>7639</td>\n",
       "    </tr>\n",
       "    <tr>\n",
       "      <th>2</th>\n",
       "      <td>5631500400</td>\n",
       "      <td>20150225T000000</td>\n",
       "      <td>180000.0</td>\n",
       "      <td>2</td>\n",
       "      <td>1.00</td>\n",
       "      <td>770</td>\n",
       "      <td>10000</td>\n",
       "      <td>1.0</td>\n",
       "      <td>0</td>\n",
       "      <td>0</td>\n",
       "      <td>...</td>\n",
       "      <td>6</td>\n",
       "      <td>770</td>\n",
       "      <td>0</td>\n",
       "      <td>1933</td>\n",
       "      <td>0</td>\n",
       "      <td>98028</td>\n",
       "      <td>47.7379</td>\n",
       "      <td>-122.233</td>\n",
       "      <td>2720</td>\n",
       "      <td>8062</td>\n",
       "    </tr>\n",
       "    <tr>\n",
       "      <th>3</th>\n",
       "      <td>2487200875</td>\n",
       "      <td>20141209T000000</td>\n",
       "      <td>604000.0</td>\n",
       "      <td>4</td>\n",
       "      <td>3.00</td>\n",
       "      <td>1960</td>\n",
       "      <td>5000</td>\n",
       "      <td>1.0</td>\n",
       "      <td>0</td>\n",
       "      <td>0</td>\n",
       "      <td>...</td>\n",
       "      <td>7</td>\n",
       "      <td>1050</td>\n",
       "      <td>910</td>\n",
       "      <td>1965</td>\n",
       "      <td>0</td>\n",
       "      <td>98136</td>\n",
       "      <td>47.5208</td>\n",
       "      <td>-122.393</td>\n",
       "      <td>1360</td>\n",
       "      <td>5000</td>\n",
       "    </tr>\n",
       "    <tr>\n",
       "      <th>4</th>\n",
       "      <td>1954400510</td>\n",
       "      <td>20150218T000000</td>\n",
       "      <td>510000.0</td>\n",
       "      <td>3</td>\n",
       "      <td>2.00</td>\n",
       "      <td>1680</td>\n",
       "      <td>8080</td>\n",
       "      <td>1.0</td>\n",
       "      <td>0</td>\n",
       "      <td>0</td>\n",
       "      <td>...</td>\n",
       "      <td>8</td>\n",
       "      <td>1680</td>\n",
       "      <td>0</td>\n",
       "      <td>1987</td>\n",
       "      <td>0</td>\n",
       "      <td>98074</td>\n",
       "      <td>47.6168</td>\n",
       "      <td>-122.045</td>\n",
       "      <td>1800</td>\n",
       "      <td>7503</td>\n",
       "    </tr>\n",
       "  </tbody>\n",
       "</table>\n",
       "<p>5 rows × 21 columns</p>\n",
       "</div>"
      ],
      "text/plain": [
       "           id             date     price  bedrooms  bathrooms  sqft_living  \\\n",
       "0  7129300520  20141013T000000  221900.0         3       1.00         1180   \n",
       "1  6414100192  20141209T000000  538000.0         3       2.25         2570   \n",
       "2  5631500400  20150225T000000  180000.0         2       1.00          770   \n",
       "3  2487200875  20141209T000000  604000.0         4       3.00         1960   \n",
       "4  1954400510  20150218T000000  510000.0         3       2.00         1680   \n",
       "\n",
       "   sqft_lot  floors  waterfront  view  ...  grade  sqft_above  sqft_basement  \\\n",
       "0      5650     1.0           0     0  ...      7        1180              0   \n",
       "1      7242     2.0           0     0  ...      7        2170            400   \n",
       "2     10000     1.0           0     0  ...      6         770              0   \n",
       "3      5000     1.0           0     0  ...      7        1050            910   \n",
       "4      8080     1.0           0     0  ...      8        1680              0   \n",
       "\n",
       "   yr_built  yr_renovated  zipcode      lat     long  sqft_living15  \\\n",
       "0      1955             0    98178  47.5112 -122.257           1340   \n",
       "1      1951          1991    98125  47.7210 -122.319           1690   \n",
       "2      1933             0    98028  47.7379 -122.233           2720   \n",
       "3      1965             0    98136  47.5208 -122.393           1360   \n",
       "4      1987             0    98074  47.6168 -122.045           1800   \n",
       "\n",
       "   sqft_lot15  \n",
       "0        5650  \n",
       "1        7639  \n",
       "2        8062  \n",
       "3        5000  \n",
       "4        7503  \n",
       "\n",
       "[5 rows x 21 columns]"
      ]
     },
     "execution_count": 2,
     "metadata": {},
     "output_type": "execute_result"
    }
   ],
   "source": [
    "df = pd.read_csv('housesale.csv')\n",
    "df.head()"
   ]
  },
  {
   "cell_type": "code",
   "execution_count": 3,
   "metadata": {},
   "outputs": [
    {
     "data": {
      "text/html": [
       "<div>\n",
       "<style scoped>\n",
       "    .dataframe tbody tr th:only-of-type {\n",
       "        vertical-align: middle;\n",
       "    }\n",
       "\n",
       "    .dataframe tbody tr th {\n",
       "        vertical-align: top;\n",
       "    }\n",
       "\n",
       "    .dataframe thead th {\n",
       "        text-align: right;\n",
       "    }\n",
       "</style>\n",
       "<table border=\"1\" class=\"dataframe\">\n",
       "  <thead>\n",
       "    <tr style=\"text-align: right;\">\n",
       "      <th></th>\n",
       "      <th>price</th>\n",
       "      <th>bedrooms</th>\n",
       "      <th>bathrooms</th>\n",
       "      <th>sqft_living</th>\n",
       "      <th>sqft_lot</th>\n",
       "      <th>floors</th>\n",
       "      <th>waterfront</th>\n",
       "      <th>view</th>\n",
       "      <th>condition</th>\n",
       "      <th>grade</th>\n",
       "      <th>sqft_above</th>\n",
       "      <th>sqft_basement</th>\n",
       "      <th>yr_built</th>\n",
       "      <th>yr_renovated</th>\n",
       "      <th>zipcode</th>\n",
       "      <th>lat</th>\n",
       "      <th>long</th>\n",
       "      <th>sqft_living15</th>\n",
       "      <th>sqft_lot15</th>\n",
       "    </tr>\n",
       "  </thead>\n",
       "  <tbody>\n",
       "    <tr>\n",
       "      <th>0</th>\n",
       "      <td>221900.0</td>\n",
       "      <td>3</td>\n",
       "      <td>1.00</td>\n",
       "      <td>1180</td>\n",
       "      <td>5650</td>\n",
       "      <td>1.0</td>\n",
       "      <td>0</td>\n",
       "      <td>0</td>\n",
       "      <td>3</td>\n",
       "      <td>7</td>\n",
       "      <td>1180</td>\n",
       "      <td>0</td>\n",
       "      <td>1955</td>\n",
       "      <td>0</td>\n",
       "      <td>98178</td>\n",
       "      <td>47.5112</td>\n",
       "      <td>-122.257</td>\n",
       "      <td>1340</td>\n",
       "      <td>5650</td>\n",
       "    </tr>\n",
       "    <tr>\n",
       "      <th>1</th>\n",
       "      <td>538000.0</td>\n",
       "      <td>3</td>\n",
       "      <td>2.25</td>\n",
       "      <td>2570</td>\n",
       "      <td>7242</td>\n",
       "      <td>2.0</td>\n",
       "      <td>0</td>\n",
       "      <td>0</td>\n",
       "      <td>3</td>\n",
       "      <td>7</td>\n",
       "      <td>2170</td>\n",
       "      <td>400</td>\n",
       "      <td>1951</td>\n",
       "      <td>1991</td>\n",
       "      <td>98125</td>\n",
       "      <td>47.7210</td>\n",
       "      <td>-122.319</td>\n",
       "      <td>1690</td>\n",
       "      <td>7639</td>\n",
       "    </tr>\n",
       "    <tr>\n",
       "      <th>2</th>\n",
       "      <td>180000.0</td>\n",
       "      <td>2</td>\n",
       "      <td>1.00</td>\n",
       "      <td>770</td>\n",
       "      <td>10000</td>\n",
       "      <td>1.0</td>\n",
       "      <td>0</td>\n",
       "      <td>0</td>\n",
       "      <td>3</td>\n",
       "      <td>6</td>\n",
       "      <td>770</td>\n",
       "      <td>0</td>\n",
       "      <td>1933</td>\n",
       "      <td>0</td>\n",
       "      <td>98028</td>\n",
       "      <td>47.7379</td>\n",
       "      <td>-122.233</td>\n",
       "      <td>2720</td>\n",
       "      <td>8062</td>\n",
       "    </tr>\n",
       "    <tr>\n",
       "      <th>3</th>\n",
       "      <td>604000.0</td>\n",
       "      <td>4</td>\n",
       "      <td>3.00</td>\n",
       "      <td>1960</td>\n",
       "      <td>5000</td>\n",
       "      <td>1.0</td>\n",
       "      <td>0</td>\n",
       "      <td>0</td>\n",
       "      <td>5</td>\n",
       "      <td>7</td>\n",
       "      <td>1050</td>\n",
       "      <td>910</td>\n",
       "      <td>1965</td>\n",
       "      <td>0</td>\n",
       "      <td>98136</td>\n",
       "      <td>47.5208</td>\n",
       "      <td>-122.393</td>\n",
       "      <td>1360</td>\n",
       "      <td>5000</td>\n",
       "    </tr>\n",
       "    <tr>\n",
       "      <th>4</th>\n",
       "      <td>510000.0</td>\n",
       "      <td>3</td>\n",
       "      <td>2.00</td>\n",
       "      <td>1680</td>\n",
       "      <td>8080</td>\n",
       "      <td>1.0</td>\n",
       "      <td>0</td>\n",
       "      <td>0</td>\n",
       "      <td>3</td>\n",
       "      <td>8</td>\n",
       "      <td>1680</td>\n",
       "      <td>0</td>\n",
       "      <td>1987</td>\n",
       "      <td>0</td>\n",
       "      <td>98074</td>\n",
       "      <td>47.6168</td>\n",
       "      <td>-122.045</td>\n",
       "      <td>1800</td>\n",
       "      <td>7503</td>\n",
       "    </tr>\n",
       "  </tbody>\n",
       "</table>\n",
       "</div>"
      ],
      "text/plain": [
       "      price  bedrooms  bathrooms  sqft_living  sqft_lot  floors  waterfront  \\\n",
       "0  221900.0         3       1.00         1180      5650     1.0           0   \n",
       "1  538000.0         3       2.25         2570      7242     2.0           0   \n",
       "2  180000.0         2       1.00          770     10000     1.0           0   \n",
       "3  604000.0         4       3.00         1960      5000     1.0           0   \n",
       "4  510000.0         3       2.00         1680      8080     1.0           0   \n",
       "\n",
       "   view  condition  grade  sqft_above  sqft_basement  yr_built  yr_renovated  \\\n",
       "0     0          3      7        1180              0      1955             0   \n",
       "1     0          3      7        2170            400      1951          1991   \n",
       "2     0          3      6         770              0      1933             0   \n",
       "3     0          5      7        1050            910      1965             0   \n",
       "4     0          3      8        1680              0      1987             0   \n",
       "\n",
       "   zipcode      lat     long  sqft_living15  sqft_lot15  \n",
       "0    98178  47.5112 -122.257           1340        5650  \n",
       "1    98125  47.7210 -122.319           1690        7639  \n",
       "2    98028  47.7379 -122.233           2720        8062  \n",
       "3    98136  47.5208 -122.393           1360        5000  \n",
       "4    98074  47.6168 -122.045           1800        7503  "
      ]
     },
     "execution_count": 3,
     "metadata": {},
     "output_type": "execute_result"
    }
   ],
   "source": [
    "df.drop(['id', 'date'], axis = 1, inplace = True)\n",
    "df.head()"
   ]
  },
  {
   "cell_type": "code",
   "execution_count": 4,
   "metadata": {},
   "outputs": [
    {
     "data": {
      "text/plain": [
       "price            0\n",
       "bedrooms         0\n",
       "bathrooms        0\n",
       "sqft_living      0\n",
       "sqft_lot         0\n",
       "floors           0\n",
       "waterfront       0\n",
       "view             0\n",
       "condition        0\n",
       "grade            0\n",
       "sqft_above       0\n",
       "sqft_basement    0\n",
       "yr_built         0\n",
       "yr_renovated     0\n",
       "zipcode          0\n",
       "lat              0\n",
       "long             0\n",
       "sqft_living15    0\n",
       "sqft_lot15       0\n",
       "dtype: int64"
      ]
     },
     "execution_count": 4,
     "metadata": {},
     "output_type": "execute_result"
    }
   ],
   "source": [
    "df.isna().sum()"
   ]
  },
  {
   "cell_type": "code",
   "execution_count": 5,
   "metadata": {},
   "outputs": [
    {
     "data": {
      "text/html": [
       "<div>\n",
       "<style scoped>\n",
       "    .dataframe tbody tr th:only-of-type {\n",
       "        vertical-align: middle;\n",
       "    }\n",
       "\n",
       "    .dataframe tbody tr th {\n",
       "        vertical-align: top;\n",
       "    }\n",
       "\n",
       "    .dataframe thead th {\n",
       "        text-align: right;\n",
       "    }\n",
       "</style>\n",
       "<table border=\"1\" class=\"dataframe\">\n",
       "  <thead>\n",
       "    <tr style=\"text-align: right;\">\n",
       "      <th></th>\n",
       "      <th>price</th>\n",
       "      <th>bedrooms</th>\n",
       "      <th>bathrooms</th>\n",
       "      <th>sqft_living</th>\n",
       "      <th>sqft_lot</th>\n",
       "      <th>floors</th>\n",
       "      <th>waterfront</th>\n",
       "      <th>view</th>\n",
       "      <th>condition</th>\n",
       "      <th>grade</th>\n",
       "      <th>sqft_above</th>\n",
       "      <th>sqft_basement</th>\n",
       "      <th>yr_built</th>\n",
       "      <th>yr_renovated</th>\n",
       "      <th>zipcode</th>\n",
       "      <th>lat</th>\n",
       "      <th>long</th>\n",
       "      <th>sqft_living15</th>\n",
       "      <th>sqft_lot15</th>\n",
       "    </tr>\n",
       "  </thead>\n",
       "  <tbody>\n",
       "    <tr>\n",
       "      <th>875</th>\n",
       "      <td>1095000.0</td>\n",
       "      <td>0</td>\n",
       "      <td>0.00</td>\n",
       "      <td>3064</td>\n",
       "      <td>4764</td>\n",
       "      <td>3.5</td>\n",
       "      <td>0</td>\n",
       "      <td>2</td>\n",
       "      <td>3</td>\n",
       "      <td>7</td>\n",
       "      <td>3064</td>\n",
       "      <td>0</td>\n",
       "      <td>1990</td>\n",
       "      <td>0</td>\n",
       "      <td>98102</td>\n",
       "      <td>47.6362</td>\n",
       "      <td>-122.322</td>\n",
       "      <td>2360</td>\n",
       "      <td>4000</td>\n",
       "    </tr>\n",
       "    <tr>\n",
       "      <th>3119</th>\n",
       "      <td>380000.0</td>\n",
       "      <td>0</td>\n",
       "      <td>0.00</td>\n",
       "      <td>1470</td>\n",
       "      <td>979</td>\n",
       "      <td>3.0</td>\n",
       "      <td>0</td>\n",
       "      <td>2</td>\n",
       "      <td>3</td>\n",
       "      <td>8</td>\n",
       "      <td>1470</td>\n",
       "      <td>0</td>\n",
       "      <td>2006</td>\n",
       "      <td>0</td>\n",
       "      <td>98133</td>\n",
       "      <td>47.7145</td>\n",
       "      <td>-122.356</td>\n",
       "      <td>1470</td>\n",
       "      <td>1399</td>\n",
       "    </tr>\n",
       "    <tr>\n",
       "      <th>3467</th>\n",
       "      <td>288000.0</td>\n",
       "      <td>0</td>\n",
       "      <td>1.50</td>\n",
       "      <td>1430</td>\n",
       "      <td>1650</td>\n",
       "      <td>3.0</td>\n",
       "      <td>0</td>\n",
       "      <td>0</td>\n",
       "      <td>3</td>\n",
       "      <td>7</td>\n",
       "      <td>1430</td>\n",
       "      <td>0</td>\n",
       "      <td>1999</td>\n",
       "      <td>0</td>\n",
       "      <td>98125</td>\n",
       "      <td>47.7222</td>\n",
       "      <td>-122.290</td>\n",
       "      <td>1430</td>\n",
       "      <td>1650</td>\n",
       "    </tr>\n",
       "    <tr>\n",
       "      <th>4868</th>\n",
       "      <td>228000.0</td>\n",
       "      <td>0</td>\n",
       "      <td>1.00</td>\n",
       "      <td>390</td>\n",
       "      <td>5900</td>\n",
       "      <td>1.0</td>\n",
       "      <td>0</td>\n",
       "      <td>0</td>\n",
       "      <td>2</td>\n",
       "      <td>4</td>\n",
       "      <td>390</td>\n",
       "      <td>0</td>\n",
       "      <td>1953</td>\n",
       "      <td>0</td>\n",
       "      <td>98118</td>\n",
       "      <td>47.5260</td>\n",
       "      <td>-122.261</td>\n",
       "      <td>2170</td>\n",
       "      <td>6000</td>\n",
       "    </tr>\n",
       "    <tr>\n",
       "      <th>6994</th>\n",
       "      <td>1295650.0</td>\n",
       "      <td>0</td>\n",
       "      <td>0.00</td>\n",
       "      <td>4810</td>\n",
       "      <td>28008</td>\n",
       "      <td>2.0</td>\n",
       "      <td>0</td>\n",
       "      <td>0</td>\n",
       "      <td>3</td>\n",
       "      <td>12</td>\n",
       "      <td>4810</td>\n",
       "      <td>0</td>\n",
       "      <td>1990</td>\n",
       "      <td>0</td>\n",
       "      <td>98053</td>\n",
       "      <td>47.6642</td>\n",
       "      <td>-122.069</td>\n",
       "      <td>4740</td>\n",
       "      <td>35061</td>\n",
       "    </tr>\n",
       "    <tr>\n",
       "      <th>8477</th>\n",
       "      <td>339950.0</td>\n",
       "      <td>0</td>\n",
       "      <td>2.50</td>\n",
       "      <td>2290</td>\n",
       "      <td>8319</td>\n",
       "      <td>2.0</td>\n",
       "      <td>0</td>\n",
       "      <td>0</td>\n",
       "      <td>3</td>\n",
       "      <td>8</td>\n",
       "      <td>2290</td>\n",
       "      <td>0</td>\n",
       "      <td>1985</td>\n",
       "      <td>0</td>\n",
       "      <td>98042</td>\n",
       "      <td>47.3473</td>\n",
       "      <td>-122.151</td>\n",
       "      <td>2500</td>\n",
       "      <td>8751</td>\n",
       "    </tr>\n",
       "    <tr>\n",
       "      <th>8484</th>\n",
       "      <td>240000.0</td>\n",
       "      <td>0</td>\n",
       "      <td>2.50</td>\n",
       "      <td>1810</td>\n",
       "      <td>5669</td>\n",
       "      <td>2.0</td>\n",
       "      <td>0</td>\n",
       "      <td>0</td>\n",
       "      <td>3</td>\n",
       "      <td>7</td>\n",
       "      <td>1810</td>\n",
       "      <td>0</td>\n",
       "      <td>2003</td>\n",
       "      <td>0</td>\n",
       "      <td>98038</td>\n",
       "      <td>47.3493</td>\n",
       "      <td>-122.053</td>\n",
       "      <td>1810</td>\n",
       "      <td>5685</td>\n",
       "    </tr>\n",
       "    <tr>\n",
       "      <th>9773</th>\n",
       "      <td>355000.0</td>\n",
       "      <td>0</td>\n",
       "      <td>0.00</td>\n",
       "      <td>2460</td>\n",
       "      <td>8049</td>\n",
       "      <td>2.0</td>\n",
       "      <td>0</td>\n",
       "      <td>0</td>\n",
       "      <td>3</td>\n",
       "      <td>8</td>\n",
       "      <td>2460</td>\n",
       "      <td>0</td>\n",
       "      <td>1990</td>\n",
       "      <td>0</td>\n",
       "      <td>98031</td>\n",
       "      <td>47.4095</td>\n",
       "      <td>-122.168</td>\n",
       "      <td>2520</td>\n",
       "      <td>8050</td>\n",
       "    </tr>\n",
       "    <tr>\n",
       "      <th>9854</th>\n",
       "      <td>235000.0</td>\n",
       "      <td>0</td>\n",
       "      <td>0.00</td>\n",
       "      <td>1470</td>\n",
       "      <td>4800</td>\n",
       "      <td>2.0</td>\n",
       "      <td>0</td>\n",
       "      <td>0</td>\n",
       "      <td>3</td>\n",
       "      <td>7</td>\n",
       "      <td>1470</td>\n",
       "      <td>0</td>\n",
       "      <td>1996</td>\n",
       "      <td>0</td>\n",
       "      <td>98065</td>\n",
       "      <td>47.5265</td>\n",
       "      <td>-121.828</td>\n",
       "      <td>1060</td>\n",
       "      <td>7200</td>\n",
       "    </tr>\n",
       "    <tr>\n",
       "      <th>12653</th>\n",
       "      <td>320000.0</td>\n",
       "      <td>0</td>\n",
       "      <td>2.50</td>\n",
       "      <td>1490</td>\n",
       "      <td>7111</td>\n",
       "      <td>2.0</td>\n",
       "      <td>0</td>\n",
       "      <td>0</td>\n",
       "      <td>3</td>\n",
       "      <td>7</td>\n",
       "      <td>1490</td>\n",
       "      <td>0</td>\n",
       "      <td>1999</td>\n",
       "      <td>0</td>\n",
       "      <td>98065</td>\n",
       "      <td>47.5261</td>\n",
       "      <td>-121.826</td>\n",
       "      <td>1500</td>\n",
       "      <td>4675</td>\n",
       "    </tr>\n",
       "    <tr>\n",
       "      <th>14423</th>\n",
       "      <td>139950.0</td>\n",
       "      <td>0</td>\n",
       "      <td>0.00</td>\n",
       "      <td>844</td>\n",
       "      <td>4269</td>\n",
       "      <td>1.0</td>\n",
       "      <td>0</td>\n",
       "      <td>0</td>\n",
       "      <td>4</td>\n",
       "      <td>7</td>\n",
       "      <td>844</td>\n",
       "      <td>0</td>\n",
       "      <td>1913</td>\n",
       "      <td>0</td>\n",
       "      <td>98001</td>\n",
       "      <td>47.2781</td>\n",
       "      <td>-122.250</td>\n",
       "      <td>1380</td>\n",
       "      <td>9600</td>\n",
       "    </tr>\n",
       "    <tr>\n",
       "      <th>18379</th>\n",
       "      <td>265000.0</td>\n",
       "      <td>0</td>\n",
       "      <td>0.75</td>\n",
       "      <td>384</td>\n",
       "      <td>213444</td>\n",
       "      <td>1.0</td>\n",
       "      <td>0</td>\n",
       "      <td>0</td>\n",
       "      <td>3</td>\n",
       "      <td>4</td>\n",
       "      <td>384</td>\n",
       "      <td>0</td>\n",
       "      <td>2003</td>\n",
       "      <td>0</td>\n",
       "      <td>98070</td>\n",
       "      <td>47.4177</td>\n",
       "      <td>-122.491</td>\n",
       "      <td>1920</td>\n",
       "      <td>224341</td>\n",
       "    </tr>\n",
       "    <tr>\n",
       "      <th>19452</th>\n",
       "      <td>142000.0</td>\n",
       "      <td>0</td>\n",
       "      <td>0.00</td>\n",
       "      <td>290</td>\n",
       "      <td>20875</td>\n",
       "      <td>1.0</td>\n",
       "      <td>0</td>\n",
       "      <td>0</td>\n",
       "      <td>1</td>\n",
       "      <td>1</td>\n",
       "      <td>290</td>\n",
       "      <td>0</td>\n",
       "      <td>1963</td>\n",
       "      <td>0</td>\n",
       "      <td>98024</td>\n",
       "      <td>47.5308</td>\n",
       "      <td>-121.888</td>\n",
       "      <td>1620</td>\n",
       "      <td>22850</td>\n",
       "    </tr>\n",
       "  </tbody>\n",
       "</table>\n",
       "</div>"
      ],
      "text/plain": [
       "           price  bedrooms  bathrooms  sqft_living  sqft_lot  floors  \\\n",
       "875    1095000.0         0       0.00         3064      4764     3.5   \n",
       "3119    380000.0         0       0.00         1470       979     3.0   \n",
       "3467    288000.0         0       1.50         1430      1650     3.0   \n",
       "4868    228000.0         0       1.00          390      5900     1.0   \n",
       "6994   1295650.0         0       0.00         4810     28008     2.0   \n",
       "8477    339950.0         0       2.50         2290      8319     2.0   \n",
       "8484    240000.0         0       2.50         1810      5669     2.0   \n",
       "9773    355000.0         0       0.00         2460      8049     2.0   \n",
       "9854    235000.0         0       0.00         1470      4800     2.0   \n",
       "12653   320000.0         0       2.50         1490      7111     2.0   \n",
       "14423   139950.0         0       0.00          844      4269     1.0   \n",
       "18379   265000.0         0       0.75          384    213444     1.0   \n",
       "19452   142000.0         0       0.00          290     20875     1.0   \n",
       "\n",
       "       waterfront  view  condition  grade  sqft_above  sqft_basement  \\\n",
       "875             0     2          3      7        3064              0   \n",
       "3119            0     2          3      8        1470              0   \n",
       "3467            0     0          3      7        1430              0   \n",
       "4868            0     0          2      4         390              0   \n",
       "6994            0     0          3     12        4810              0   \n",
       "8477            0     0          3      8        2290              0   \n",
       "8484            0     0          3      7        1810              0   \n",
       "9773            0     0          3      8        2460              0   \n",
       "9854            0     0          3      7        1470              0   \n",
       "12653           0     0          3      7        1490              0   \n",
       "14423           0     0          4      7         844              0   \n",
       "18379           0     0          3      4         384              0   \n",
       "19452           0     0          1      1         290              0   \n",
       "\n",
       "       yr_built  yr_renovated  zipcode      lat     long  sqft_living15  \\\n",
       "875        1990             0    98102  47.6362 -122.322           2360   \n",
       "3119       2006             0    98133  47.7145 -122.356           1470   \n",
       "3467       1999             0    98125  47.7222 -122.290           1430   \n",
       "4868       1953             0    98118  47.5260 -122.261           2170   \n",
       "6994       1990             0    98053  47.6642 -122.069           4740   \n",
       "8477       1985             0    98042  47.3473 -122.151           2500   \n",
       "8484       2003             0    98038  47.3493 -122.053           1810   \n",
       "9773       1990             0    98031  47.4095 -122.168           2520   \n",
       "9854       1996             0    98065  47.5265 -121.828           1060   \n",
       "12653      1999             0    98065  47.5261 -121.826           1500   \n",
       "14423      1913             0    98001  47.2781 -122.250           1380   \n",
       "18379      2003             0    98070  47.4177 -122.491           1920   \n",
       "19452      1963             0    98024  47.5308 -121.888           1620   \n",
       "\n",
       "       sqft_lot15  \n",
       "875          4000  \n",
       "3119         1399  \n",
       "3467         1650  \n",
       "4868         6000  \n",
       "6994        35061  \n",
       "8477         8751  \n",
       "8484         5685  \n",
       "9773         8050  \n",
       "9854         7200  \n",
       "12653        4675  \n",
       "14423        9600  \n",
       "18379      224341  \n",
       "19452       22850  "
      ]
     },
     "execution_count": 5,
     "metadata": {},
     "output_type": "execute_result"
    }
   ],
   "source": [
    "# Make sure the value in bedrooms and bathrooms\n",
    "# Checking if we have a house with bedrooms < 1\n",
    "df[df['bedrooms'] < 1]"
   ]
  },
  {
   "cell_type": "code",
   "execution_count": 6,
   "metadata": {},
   "outputs": [
    {
     "data": {
      "text/html": [
       "<div>\n",
       "<style scoped>\n",
       "    .dataframe tbody tr th:only-of-type {\n",
       "        vertical-align: middle;\n",
       "    }\n",
       "\n",
       "    .dataframe tbody tr th {\n",
       "        vertical-align: top;\n",
       "    }\n",
       "\n",
       "    .dataframe thead th {\n",
       "        text-align: right;\n",
       "    }\n",
       "</style>\n",
       "<table border=\"1\" class=\"dataframe\">\n",
       "  <thead>\n",
       "    <tr style=\"text-align: right;\">\n",
       "      <th></th>\n",
       "      <th>price</th>\n",
       "      <th>bedrooms</th>\n",
       "      <th>bathrooms</th>\n",
       "      <th>sqft_living</th>\n",
       "      <th>sqft_lot</th>\n",
       "      <th>floors</th>\n",
       "      <th>waterfront</th>\n",
       "      <th>view</th>\n",
       "      <th>condition</th>\n",
       "      <th>grade</th>\n",
       "      <th>sqft_above</th>\n",
       "      <th>sqft_basement</th>\n",
       "      <th>yr_built</th>\n",
       "      <th>yr_renovated</th>\n",
       "      <th>zipcode</th>\n",
       "      <th>lat</th>\n",
       "      <th>long</th>\n",
       "      <th>sqft_living15</th>\n",
       "      <th>sqft_lot15</th>\n",
       "    </tr>\n",
       "  </thead>\n",
       "  <tbody>\n",
       "    <tr>\n",
       "      <th>875</th>\n",
       "      <td>1095000.0</td>\n",
       "      <td>0</td>\n",
       "      <td>0.0</td>\n",
       "      <td>3064</td>\n",
       "      <td>4764</td>\n",
       "      <td>3.5</td>\n",
       "      <td>0</td>\n",
       "      <td>2</td>\n",
       "      <td>3</td>\n",
       "      <td>7</td>\n",
       "      <td>3064</td>\n",
       "      <td>0</td>\n",
       "      <td>1990</td>\n",
       "      <td>0</td>\n",
       "      <td>98102</td>\n",
       "      <td>47.6362</td>\n",
       "      <td>-122.322</td>\n",
       "      <td>2360</td>\n",
       "      <td>4000</td>\n",
       "    </tr>\n",
       "    <tr>\n",
       "      <th>1149</th>\n",
       "      <td>75000.0</td>\n",
       "      <td>1</td>\n",
       "      <td>0.0</td>\n",
       "      <td>670</td>\n",
       "      <td>43377</td>\n",
       "      <td>1.0</td>\n",
       "      <td>0</td>\n",
       "      <td>0</td>\n",
       "      <td>3</td>\n",
       "      <td>3</td>\n",
       "      <td>670</td>\n",
       "      <td>0</td>\n",
       "      <td>1966</td>\n",
       "      <td>0</td>\n",
       "      <td>98022</td>\n",
       "      <td>47.2638</td>\n",
       "      <td>-121.906</td>\n",
       "      <td>1160</td>\n",
       "      <td>42882</td>\n",
       "    </tr>\n",
       "    <tr>\n",
       "      <th>3119</th>\n",
       "      <td>380000.0</td>\n",
       "      <td>0</td>\n",
       "      <td>0.0</td>\n",
       "      <td>1470</td>\n",
       "      <td>979</td>\n",
       "      <td>3.0</td>\n",
       "      <td>0</td>\n",
       "      <td>2</td>\n",
       "      <td>3</td>\n",
       "      <td>8</td>\n",
       "      <td>1470</td>\n",
       "      <td>0</td>\n",
       "      <td>2006</td>\n",
       "      <td>0</td>\n",
       "      <td>98133</td>\n",
       "      <td>47.7145</td>\n",
       "      <td>-122.356</td>\n",
       "      <td>1470</td>\n",
       "      <td>1399</td>\n",
       "    </tr>\n",
       "    <tr>\n",
       "      <th>5832</th>\n",
       "      <td>280000.0</td>\n",
       "      <td>1</td>\n",
       "      <td>0.0</td>\n",
       "      <td>600</td>\n",
       "      <td>24501</td>\n",
       "      <td>1.0</td>\n",
       "      <td>0</td>\n",
       "      <td>0</td>\n",
       "      <td>2</td>\n",
       "      <td>3</td>\n",
       "      <td>600</td>\n",
       "      <td>0</td>\n",
       "      <td>1950</td>\n",
       "      <td>0</td>\n",
       "      <td>98045</td>\n",
       "      <td>47.5316</td>\n",
       "      <td>-121.749</td>\n",
       "      <td>990</td>\n",
       "      <td>22549</td>\n",
       "    </tr>\n",
       "    <tr>\n",
       "      <th>6994</th>\n",
       "      <td>1295650.0</td>\n",
       "      <td>0</td>\n",
       "      <td>0.0</td>\n",
       "      <td>4810</td>\n",
       "      <td>28008</td>\n",
       "      <td>2.0</td>\n",
       "      <td>0</td>\n",
       "      <td>0</td>\n",
       "      <td>3</td>\n",
       "      <td>12</td>\n",
       "      <td>4810</td>\n",
       "      <td>0</td>\n",
       "      <td>1990</td>\n",
       "      <td>0</td>\n",
       "      <td>98053</td>\n",
       "      <td>47.6642</td>\n",
       "      <td>-122.069</td>\n",
       "      <td>4740</td>\n",
       "      <td>35061</td>\n",
       "    </tr>\n",
       "    <tr>\n",
       "      <th>9773</th>\n",
       "      <td>355000.0</td>\n",
       "      <td>0</td>\n",
       "      <td>0.0</td>\n",
       "      <td>2460</td>\n",
       "      <td>8049</td>\n",
       "      <td>2.0</td>\n",
       "      <td>0</td>\n",
       "      <td>0</td>\n",
       "      <td>3</td>\n",
       "      <td>8</td>\n",
       "      <td>2460</td>\n",
       "      <td>0</td>\n",
       "      <td>1990</td>\n",
       "      <td>0</td>\n",
       "      <td>98031</td>\n",
       "      <td>47.4095</td>\n",
       "      <td>-122.168</td>\n",
       "      <td>2520</td>\n",
       "      <td>8050</td>\n",
       "    </tr>\n",
       "    <tr>\n",
       "      <th>9854</th>\n",
       "      <td>235000.0</td>\n",
       "      <td>0</td>\n",
       "      <td>0.0</td>\n",
       "      <td>1470</td>\n",
       "      <td>4800</td>\n",
       "      <td>2.0</td>\n",
       "      <td>0</td>\n",
       "      <td>0</td>\n",
       "      <td>3</td>\n",
       "      <td>7</td>\n",
       "      <td>1470</td>\n",
       "      <td>0</td>\n",
       "      <td>1996</td>\n",
       "      <td>0</td>\n",
       "      <td>98065</td>\n",
       "      <td>47.5265</td>\n",
       "      <td>-121.828</td>\n",
       "      <td>1060</td>\n",
       "      <td>7200</td>\n",
       "    </tr>\n",
       "    <tr>\n",
       "      <th>10481</th>\n",
       "      <td>484000.0</td>\n",
       "      <td>1</td>\n",
       "      <td>0.0</td>\n",
       "      <td>690</td>\n",
       "      <td>23244</td>\n",
       "      <td>1.0</td>\n",
       "      <td>0</td>\n",
       "      <td>0</td>\n",
       "      <td>4</td>\n",
       "      <td>7</td>\n",
       "      <td>690</td>\n",
       "      <td>0</td>\n",
       "      <td>1948</td>\n",
       "      <td>0</td>\n",
       "      <td>98053</td>\n",
       "      <td>47.6429</td>\n",
       "      <td>-121.955</td>\n",
       "      <td>1690</td>\n",
       "      <td>19290</td>\n",
       "    </tr>\n",
       "    <tr>\n",
       "      <th>14423</th>\n",
       "      <td>139950.0</td>\n",
       "      <td>0</td>\n",
       "      <td>0.0</td>\n",
       "      <td>844</td>\n",
       "      <td>4269</td>\n",
       "      <td>1.0</td>\n",
       "      <td>0</td>\n",
       "      <td>0</td>\n",
       "      <td>4</td>\n",
       "      <td>7</td>\n",
       "      <td>844</td>\n",
       "      <td>0</td>\n",
       "      <td>1913</td>\n",
       "      <td>0</td>\n",
       "      <td>98001</td>\n",
       "      <td>47.2781</td>\n",
       "      <td>-122.250</td>\n",
       "      <td>1380</td>\n",
       "      <td>9600</td>\n",
       "    </tr>\n",
       "    <tr>\n",
       "      <th>19452</th>\n",
       "      <td>142000.0</td>\n",
       "      <td>0</td>\n",
       "      <td>0.0</td>\n",
       "      <td>290</td>\n",
       "      <td>20875</td>\n",
       "      <td>1.0</td>\n",
       "      <td>0</td>\n",
       "      <td>0</td>\n",
       "      <td>1</td>\n",
       "      <td>1</td>\n",
       "      <td>290</td>\n",
       "      <td>0</td>\n",
       "      <td>1963</td>\n",
       "      <td>0</td>\n",
       "      <td>98024</td>\n",
       "      <td>47.5308</td>\n",
       "      <td>-121.888</td>\n",
       "      <td>1620</td>\n",
       "      <td>22850</td>\n",
       "    </tr>\n",
       "  </tbody>\n",
       "</table>\n",
       "</div>"
      ],
      "text/plain": [
       "           price  bedrooms  bathrooms  sqft_living  sqft_lot  floors  \\\n",
       "875    1095000.0         0        0.0         3064      4764     3.5   \n",
       "1149     75000.0         1        0.0          670     43377     1.0   \n",
       "3119    380000.0         0        0.0         1470       979     3.0   \n",
       "5832    280000.0         1        0.0          600     24501     1.0   \n",
       "6994   1295650.0         0        0.0         4810     28008     2.0   \n",
       "9773    355000.0         0        0.0         2460      8049     2.0   \n",
       "9854    235000.0         0        0.0         1470      4800     2.0   \n",
       "10481   484000.0         1        0.0          690     23244     1.0   \n",
       "14423   139950.0         0        0.0          844      4269     1.0   \n",
       "19452   142000.0         0        0.0          290     20875     1.0   \n",
       "\n",
       "       waterfront  view  condition  grade  sqft_above  sqft_basement  \\\n",
       "875             0     2          3      7        3064              0   \n",
       "1149            0     0          3      3         670              0   \n",
       "3119            0     2          3      8        1470              0   \n",
       "5832            0     0          2      3         600              0   \n",
       "6994            0     0          3     12        4810              0   \n",
       "9773            0     0          3      8        2460              0   \n",
       "9854            0     0          3      7        1470              0   \n",
       "10481           0     0          4      7         690              0   \n",
       "14423           0     0          4      7         844              0   \n",
       "19452           0     0          1      1         290              0   \n",
       "\n",
       "       yr_built  yr_renovated  zipcode      lat     long  sqft_living15  \\\n",
       "875        1990             0    98102  47.6362 -122.322           2360   \n",
       "1149       1966             0    98022  47.2638 -121.906           1160   \n",
       "3119       2006             0    98133  47.7145 -122.356           1470   \n",
       "5832       1950             0    98045  47.5316 -121.749            990   \n",
       "6994       1990             0    98053  47.6642 -122.069           4740   \n",
       "9773       1990             0    98031  47.4095 -122.168           2520   \n",
       "9854       1996             0    98065  47.5265 -121.828           1060   \n",
       "10481      1948             0    98053  47.6429 -121.955           1690   \n",
       "14423      1913             0    98001  47.2781 -122.250           1380   \n",
       "19452      1963             0    98024  47.5308 -121.888           1620   \n",
       "\n",
       "       sqft_lot15  \n",
       "875          4000  \n",
       "1149        42882  \n",
       "3119         1399  \n",
       "5832        22549  \n",
       "6994        35061  \n",
       "9773         8050  \n",
       "9854         7200  \n",
       "10481       19290  \n",
       "14423        9600  \n",
       "19452       22850  "
      ]
     },
     "execution_count": 6,
     "metadata": {},
     "output_type": "execute_result"
    }
   ],
   "source": [
    "# Checking if we have a house with bathrooms < 1\n",
    "df[df['bathrooms'] < 0.25]"
   ]
  },
  {
   "cell_type": "code",
   "execution_count": 7,
   "metadata": {},
   "outputs": [],
   "source": [
    "# Replacing bedrooms and bathrooms 0 value with their median\n",
    "# Median bedrooms = 3.00\n",
    "# Median bathrooms = 2.250\n",
    "# Reason of using median : The value of the mean will change (decrease), but the median will not until a bigger change occurs.\n",
    "# Therefore, the median is a more reliable and more stable number than the mean.\n",
    "\n",
    "df['bedrooms'] = df['bedrooms'].replace(0, df['bedrooms'].median())\n",
    "df['bathrooms'] = df['bathrooms'].replace(0, df['bathrooms'].median())"
   ]
  },
  {
   "cell_type": "code",
   "execution_count": 8,
   "metadata": {},
   "outputs": [
    {
     "data": {
      "text/html": [
       "<div>\n",
       "<style scoped>\n",
       "    .dataframe tbody tr th:only-of-type {\n",
       "        vertical-align: middle;\n",
       "    }\n",
       "\n",
       "    .dataframe tbody tr th {\n",
       "        vertical-align: top;\n",
       "    }\n",
       "\n",
       "    .dataframe thead th {\n",
       "        text-align: right;\n",
       "    }\n",
       "</style>\n",
       "<table border=\"1\" class=\"dataframe\">\n",
       "  <thead>\n",
       "    <tr style=\"text-align: right;\">\n",
       "      <th></th>\n",
       "      <th>price</th>\n",
       "      <th>bedrooms</th>\n",
       "      <th>bathrooms</th>\n",
       "      <th>sqft_living</th>\n",
       "      <th>sqft_lot</th>\n",
       "      <th>floors</th>\n",
       "      <th>waterfront</th>\n",
       "      <th>view</th>\n",
       "      <th>condition</th>\n",
       "      <th>grade</th>\n",
       "      <th>sqft_above</th>\n",
       "      <th>sqft_basement</th>\n",
       "      <th>yr_built</th>\n",
       "      <th>yr_renovated</th>\n",
       "      <th>zipcode</th>\n",
       "      <th>lat</th>\n",
       "      <th>long</th>\n",
       "      <th>sqft_living15</th>\n",
       "      <th>sqft_lot15</th>\n",
       "    </tr>\n",
       "  </thead>\n",
       "  <tbody>\n",
       "  </tbody>\n",
       "</table>\n",
       "</div>"
      ],
      "text/plain": [
       "Empty DataFrame\n",
       "Columns: [price, bedrooms, bathrooms, sqft_living, sqft_lot, floors, waterfront, view, condition, grade, sqft_above, sqft_basement, yr_built, yr_renovated, zipcode, lat, long, sqft_living15, sqft_lot15]\n",
       "Index: []"
      ]
     },
     "execution_count": 8,
     "metadata": {},
     "output_type": "execute_result"
    }
   ],
   "source": [
    "df[df['bedrooms'] < 1]"
   ]
  },
  {
   "cell_type": "code",
   "execution_count": 9,
   "metadata": {},
   "outputs": [
    {
     "data": {
      "text/html": [
       "<div>\n",
       "<style scoped>\n",
       "    .dataframe tbody tr th:only-of-type {\n",
       "        vertical-align: middle;\n",
       "    }\n",
       "\n",
       "    .dataframe tbody tr th {\n",
       "        vertical-align: top;\n",
       "    }\n",
       "\n",
       "    .dataframe thead th {\n",
       "        text-align: right;\n",
       "    }\n",
       "</style>\n",
       "<table border=\"1\" class=\"dataframe\">\n",
       "  <thead>\n",
       "    <tr style=\"text-align: right;\">\n",
       "      <th></th>\n",
       "      <th>price</th>\n",
       "      <th>bedrooms</th>\n",
       "      <th>bathrooms</th>\n",
       "      <th>sqft_living</th>\n",
       "      <th>sqft_lot</th>\n",
       "      <th>floors</th>\n",
       "      <th>waterfront</th>\n",
       "      <th>view</th>\n",
       "      <th>condition</th>\n",
       "      <th>grade</th>\n",
       "      <th>sqft_above</th>\n",
       "      <th>sqft_basement</th>\n",
       "      <th>yr_built</th>\n",
       "      <th>yr_renovated</th>\n",
       "      <th>zipcode</th>\n",
       "      <th>lat</th>\n",
       "      <th>long</th>\n",
       "      <th>sqft_living15</th>\n",
       "      <th>sqft_lot15</th>\n",
       "    </tr>\n",
       "  </thead>\n",
       "  <tbody>\n",
       "  </tbody>\n",
       "</table>\n",
       "</div>"
      ],
      "text/plain": [
       "Empty DataFrame\n",
       "Columns: [price, bedrooms, bathrooms, sqft_living, sqft_lot, floors, waterfront, view, condition, grade, sqft_above, sqft_basement, yr_built, yr_renovated, zipcode, lat, long, sqft_living15, sqft_lot15]\n",
       "Index: []"
      ]
     },
     "execution_count": 9,
     "metadata": {},
     "output_type": "execute_result"
    }
   ],
   "source": [
    "df[df['bathrooms'] < 0.25]"
   ]
  },
  {
   "cell_type": "code",
   "execution_count": 10,
   "metadata": {},
   "outputs": [
    {
     "data": {
      "image/png": "[encoded data removed]",
      "text/plain": [
       "<Figure size 1152x720 with 2 Axes>"
      ]
     },
     "metadata": {
      "needs_background": "light"
     },
     "output_type": "display_data"
    }
   ],
   "source": [
    "plt.figure(figsize=(16,10))\n",
    "\n",
    "sns.heatmap(df.corr(), annot=True)\n",
    "plt.show()"
   ]
  },
  {
   "cell_type": "code",
   "execution_count": 11,
   "metadata": {},
   "outputs": [
    {
     "data": {
      "text/plain": [
       "zipcode         -0.053203\n",
       "long             0.021626\n",
       "condition        0.036362\n",
       "yr_built         0.054012\n",
       "sqft_lot15       0.082447\n",
       "sqft_lot         0.089661\n",
       "yr_renovated     0.126434\n",
       "floors           0.256794\n",
       "waterfront       0.266369\n",
       "lat              0.307003\n",
       "bedrooms         0.308868\n",
       "sqft_basement    0.323816\n",
       "view             0.397293\n",
       "bathrooms        0.525714\n",
       "sqft_living15    0.585379\n",
       "sqft_above       0.605567\n",
       "grade            0.667434\n",
       "sqft_living      0.702035\n",
       "price            1.000000\n",
       "Name: price, dtype: float64"
      ]
     },
     "execution_count": 11,
     "metadata": {},
     "output_type": "execute_result"
    }
   ],
   "source": [
    "df.corr()['price'].sort_values()"
   ]
  },
  {
   "cell_type": "markdown",
   "metadata": {},
   "source": [
    "### Analysis\n",
    "- Correlation ranging from -1 to +1\n",
    "- A high correlation means that two or more variables have a strong relationship with each other\n",
    "    > Based on the result of correlation, features that considerably have :\n",
    "    - weak relationship : **zipcode, day, month, long, condition, yr_built, sqft_lot15, sqft_lot, yr_renovated**\n",
    "    - moderate relationship : **floors, waterfront, lat, bedrooms, sqft_basement, view**\n",
    "    - strong relationship : **Bathrooms, sqft_living15, sqft_above, grade, sqft_living**"
   ]
  },
  {
   "cell_type": "markdown",
   "metadata": {},
   "source": [
    "## Feature Engineering & Feature Selection"
   ]
  },
  {
   "cell_type": "markdown",
   "metadata": {},
   "source": [
    "**8 Features use in this process :**\n",
    "- bedrooms,\n",
    "- sqft_basement, \n",
    "- view,\n",
    "- bathrooms, \n",
    "- sqft_living15, \n",
    "- sqft_above, \n",
    "- grade, \n",
    "- sqft_living"
   ]
  },
  {
   "cell_type": "code",
   "execution_count": 12,
   "metadata": {},
   "outputs": [
    {
     "data": {
      "text/html": [
       "<div>\n",
       "<style scoped>\n",
       "    .dataframe tbody tr th:only-of-type {\n",
       "        vertical-align: middle;\n",
       "    }\n",
       "\n",
       "    .dataframe tbody tr th {\n",
       "        vertical-align: top;\n",
       "    }\n",
       "\n",
       "    .dataframe thead th {\n",
       "        text-align: right;\n",
       "    }\n",
       "</style>\n",
       "<table border=\"1\" class=\"dataframe\">\n",
       "  <thead>\n",
       "    <tr style=\"text-align: right;\">\n",
       "      <th></th>\n",
       "      <th>price</th>\n",
       "      <th>bedrooms</th>\n",
       "      <th>bathrooms</th>\n",
       "      <th>sqft_living</th>\n",
       "      <th>view</th>\n",
       "      <th>grade</th>\n",
       "      <th>sqft_above</th>\n",
       "      <th>sqft_basement</th>\n",
       "      <th>sqft_living15</th>\n",
       "    </tr>\n",
       "  </thead>\n",
       "  <tbody>\n",
       "    <tr>\n",
       "      <th>0</th>\n",
       "      <td>221900.0</td>\n",
       "      <td>3</td>\n",
       "      <td>1.00</td>\n",
       "      <td>1180</td>\n",
       "      <td>0</td>\n",
       "      <td>7</td>\n",
       "      <td>1180</td>\n",
       "      <td>0</td>\n",
       "      <td>1340</td>\n",
       "    </tr>\n",
       "    <tr>\n",
       "      <th>1</th>\n",
       "      <td>538000.0</td>\n",
       "      <td>3</td>\n",
       "      <td>2.25</td>\n",
       "      <td>2570</td>\n",
       "      <td>0</td>\n",
       "      <td>7</td>\n",
       "      <td>2170</td>\n",
       "      <td>400</td>\n",
       "      <td>1690</td>\n",
       "    </tr>\n",
       "    <tr>\n",
       "      <th>2</th>\n",
       "      <td>180000.0</td>\n",
       "      <td>2</td>\n",
       "      <td>1.00</td>\n",
       "      <td>770</td>\n",
       "      <td>0</td>\n",
       "      <td>6</td>\n",
       "      <td>770</td>\n",
       "      <td>0</td>\n",
       "      <td>2720</td>\n",
       "    </tr>\n",
       "    <tr>\n",
       "      <th>3</th>\n",
       "      <td>604000.0</td>\n",
       "      <td>4</td>\n",
       "      <td>3.00</td>\n",
       "      <td>1960</td>\n",
       "      <td>0</td>\n",
       "      <td>7</td>\n",
       "      <td>1050</td>\n",
       "      <td>910</td>\n",
       "      <td>1360</td>\n",
       "    </tr>\n",
       "    <tr>\n",
       "      <th>4</th>\n",
       "      <td>510000.0</td>\n",
       "      <td>3</td>\n",
       "      <td>2.00</td>\n",
       "      <td>1680</td>\n",
       "      <td>0</td>\n",
       "      <td>8</td>\n",
       "      <td>1680</td>\n",
       "      <td>0</td>\n",
       "      <td>1800</td>\n",
       "    </tr>\n",
       "  </tbody>\n",
       "</table>\n",
       "</div>"
      ],
      "text/plain": [
       "      price  bedrooms  bathrooms  sqft_living  view  grade  sqft_above  \\\n",
       "0  221900.0         3       1.00         1180     0      7        1180   \n",
       "1  538000.0         3       2.25         2570     0      7        2170   \n",
       "2  180000.0         2       1.00          770     0      6         770   \n",
       "3  604000.0         4       3.00         1960     0      7        1050   \n",
       "4  510000.0         3       2.00         1680     0      8        1680   \n",
       "\n",
       "   sqft_basement  sqft_living15  \n",
       "0              0           1340  \n",
       "1            400           1690  \n",
       "2              0           2720  \n",
       "3            910           1360  \n",
       "4              0           1800  "
      ]
     },
     "execution_count": 12,
     "metadata": {},
     "output_type": "execute_result"
    }
   ],
   "source": [
    "# Drop columns other than 8 selected features\n",
    "df.drop(columns=['zipcode', 'long', 'condition', 'yr_built', 'sqft_lot15', 'sqft_lot', 'yr_renovated', 'floors', 'waterfront', 'lat'], inplace=True)\n",
    "df.head()"
   ]
  },
  {
   "cell_type": "markdown",
   "metadata": {},
   "source": [
    "## Binning"
   ]
  },
  {
   "cell_type": "code",
   "execution_count": 13,
   "metadata": {},
   "outputs": [],
   "source": [
    "# float => int\n",
    "\n",
    "import math\n",
    "for i in range(len(df)):\n",
    "    df.bathrooms[i] = math.ceil(df.bathrooms[i])\n",
    "df['bathrooms'] = df['bathrooms'].astype(int)"
   ]
  },
  {
   "cell_type": "markdown",
   "metadata": {},
   "source": [
    "#### sqft_living => 14 groups"
   ]
  },
  {
   "cell_type": "code",
   "execution_count": 14,
   "metadata": {},
   "outputs": [],
   "source": [
    "sqft_living_ = list(range(1,15))\n",
    "cut_bins = [0,1000,2000,3000,4000,5000,6000,7000,8000,9000,10000,11000,12000,13000,14000]\n",
    "df['sqft_living_'] = pd.cut(df['sqft_living'], bins=cut_bins, labels=sqft_living_)\n",
    "df['sqft_living_'] = df.sqft_living_.astype(int)"
   ]
  },
  {
   "cell_type": "markdown",
   "metadata": {},
   "source": [
    "#### sqft_living15 => 14 groups"
   ]
  },
  {
   "cell_type": "code",
   "execution_count": 15,
   "metadata": {},
   "outputs": [],
   "source": [
    "sqft_living15_ = list(range(1,15))\n",
    "cut_bins = [0,1000,2000,3000,4000,5000,6000,7000,8000,9000,10000,11000,12000,13000,14000]\n",
    "df['sqft_living15_'] = pd.cut(df['sqft_living15'], bins=cut_bins, labels=sqft_living15_)\n",
    "df['sqft_living15_'] = df.sqft_living15_.astype(int)"
   ]
  },
  {
   "cell_type": "markdown",
   "metadata": {},
   "source": [
    "#### sqft_basement => 5 groups"
   ]
  },
  {
   "cell_type": "code",
   "execution_count": 16,
   "metadata": {},
   "outputs": [],
   "source": [
    "sqft_basement_ = list(range(1,6))\n",
    "cut_bins = [-1,1000,2000,3000,4000,5000]\n",
    "df['sqft_basement_'] = pd.cut(df['sqft_basement'], bins=cut_bins, labels=sqft_basement_)\n",
    "df['sqft_basement_'] = df.sqft_basement_.astype(int)"
   ]
  },
  {
   "cell_type": "markdown",
   "metadata": {},
   "source": [
    "### Feature Scaling"
   ]
  },
  {
   "cell_type": "code",
   "execution_count": 17,
   "metadata": {},
   "outputs": [],
   "source": [
    "from sklearn.preprocessing import MinMaxScaler, RobustScaler, StandardScaler"
   ]
  },
  {
   "cell_type": "code",
   "execution_count": 18,
   "metadata": {},
   "outputs": [],
   "source": [
    "mm_scale = MinMaxScaler()\n",
    "r_scale = RobustScaler()\n",
    "s_scale = StandardScaler()"
   ]
  },
  {
   "cell_type": "code",
   "execution_count": 19,
   "metadata": {},
   "outputs": [],
   "source": [
    "from sklearn.model_selection import train_test_split\n",
    "X = df.drop(columns='price')  ### Features / Independent Var\n",
    "y = df['price']               ### Target / Dependent Var\n",
    "\n",
    "X_train, X_test, y_train, y_test = train_test_split(X, y, test_size = .20, random_state = 42)"
   ]
  },
  {
   "cell_type": "code",
   "execution_count": 20,
   "metadata": {},
   "outputs": [],
   "source": [
    "X_train_mm = mm_scale.fit_transform(X_train)\n",
    "X_test_mm = mm_scale.fit_transform(X_test)\n",
    "\n",
    "X_train_r = r_scale.fit_transform(X_train)\n",
    "X_test_r = r_scale.fit_transform(X_test)\n",
    "\n",
    "X_train_s = s_scale.fit_transform(X_train)\n",
    "X_test_s = s_scale.fit_transform(X_test)"
   ]
  },
  {
   "cell_type": "markdown",
   "metadata": {},
   "source": [
    "**Data Proportion**\n",
    "- Train size : 80%\n",
    "- Test size : 20%"
   ]
  },
  {
   "cell_type": "markdown",
   "metadata": {},
   "source": [
    "### Multiple Linear Regression"
   ]
  },
  {
   "cell_type": "code",
   "execution_count": 21,
   "metadata": {},
   "outputs": [],
   "source": [
    "from sklearn.metrics import r2_score, mean_absolute_error, mean_squared_error"
   ]
  },
  {
   "cell_type": "markdown",
   "metadata": {},
   "source": [
    "#### Without Scaling"
   ]
  },
  {
   "cell_type": "code",
   "execution_count": 22,
   "metadata": {},
   "outputs": [],
   "source": [
    "from sklearn.linear_model import LinearRegression\n",
    "model_LR = LinearRegression()\n",
    "model_LR.fit(X_train, y_train)\n",
    "y_pred_LR = model_LR.predict(X_test)"
   ]
  },
  {
   "cell_type": "code",
   "execution_count": 23,
   "metadata": {},
   "outputs": [
    {
     "name": "stdout",
     "output_type": "stream",
     "text": [
      "[-2.89532207e+04 -3.06023330e+04  1.37808547e+02  8.71104379e+04\n",
      "  9.93343286e+04  4.46022890e+01  9.32062584e+01  1.23428430e+01\n",
      "  8.53937349e+03 -1.02951896e+04 -6.32706965e+03]\n",
      "(4323,)\n"
     ]
    }
   ],
   "source": [
    "print(model_LR.coef_)\n",
    "print(y_pred_LR.shape)"
   ]
  },
  {
   "cell_type": "code",
   "execution_count": 24,
   "metadata": {},
   "outputs": [
    {
     "name": "stdout",
     "output_type": "stream",
     "text": [
      "R2_score_MLR 0.5865391719054411\n",
      "MAE_MLR = 157911.8601334523\n",
      "MSE_MLR = 62505648638.33277\n",
      "RMSE_MLR = 250011.29702142015\n"
     ]
    }
   ],
   "source": [
    "R2_score_MLR = r2_score(y_test, y_pred_LR)\n",
    "MAE_MLR = mean_absolute_error(y_test, y_pred_LR)\n",
    "MSE_MLR = mean_squared_error(y_test, y_pred_LR)\n",
    "RMSE_MLR = np.sqrt(mean_squared_error(y_test, y_pred_LR))\n",
    "\n",
    "print(f\"R2_score_MLR {R2_score_MLR}\")\n",
    "print(f\"MAE_MLR = {MAE_MLR}\")\n",
    "print(f\"MSE_MLR = {MSE_MLR}\")\n",
    "print(f\"RMSE_MLR = {RMSE_MLR}\")"
   ]
  },
  {
   "cell_type": "markdown",
   "metadata": {},
   "source": [
    "### Summary Linear Regression "
   ]
  },
  {
   "cell_type": "markdown",
   "metadata": {},
   "source": [
    "### Analysis\n",
    "Continue using `Linear Regression`"
   ]
  },
  {
   "cell_type": "code",
   "execution_count": 25,
   "metadata": {},
   "outputs": [
    {
     "data": {
      "image/png": "[encoded data removed]",
      "text/plain": [
       "<Figure size 576x432 with 1 Axes>"
      ]
     },
     "metadata": {
      "needs_background": "light"
     },
     "output_type": "display_data"
    }
   ],
   "source": [
    "# Scatter plot of actual price and predicted price\n",
    "plt.figure(figsize=(8,6))\n",
    "plt.scatter(y_pred_LR, y_test)\n",
    "plt.xlim([0,3000000])\n",
    "plt.xlabel('y_pred')\n",
    "plt.ylabel('y_test')\n",
    "plt.show()"
   ]
  },
  {
   "cell_type": "code",
   "execution_count": 26,
   "metadata": {},
   "outputs": [
    {
     "data": {
      "image/png": "[encoded data removed]",
      "text/plain": [
       "<Figure size 432x288 with 1 Axes>"
      ]
     },
     "metadata": {
      "needs_background": "light"
     },
     "output_type": "display_data"
    }
   ],
   "source": [
    "#Plot the error\n",
    "g=plt.plot((y_test - y_pred_LR), marker='o', linestyle='')"
   ]
  },
  {
   "cell_type": "markdown",
   "metadata": {},
   "source": [
    "## Polynomial Regression"
   ]
  },
  {
   "cell_type": "code",
   "execution_count": 27,
   "metadata": {},
   "outputs": [],
   "source": [
    "from sklearn.preprocessing import PolynomialFeatures\n",
    "\n",
    "polynom = PolynomialFeatures(degree=2)\n",
    "\n",
    "X_train_polynom = polynom.fit_transform(X_train)\n",
    "X_test_polynom = polynom.fit_transform(X_test)"
   ]
  },
  {
   "cell_type": "code",
   "execution_count": 28,
   "metadata": {},
   "outputs": [],
   "source": [
    "from sklearn.linear_model import LinearRegression\n",
    "model_polynom = LinearRegression()"
   ]
  },
  {
   "cell_type": "code",
   "execution_count": 29,
   "metadata": {},
   "outputs": [
    {
     "name": "stdout",
     "output_type": "stream",
     "text": [
      "(4323,)\n"
     ]
    }
   ],
   "source": [
    "model_polynom.fit(X_train_polynom, y_train)\n",
    "y_pred_polynom = model_polynom.predict(X_test_polynom)\n",
    "print(y_pred_polynom.shape)"
   ]
  },
  {
   "cell_type": "code",
   "execution_count": 30,
   "metadata": {},
   "outputs": [
    {
     "name": "stdout",
     "output_type": "stream",
     "text": [
      "R2_score Polynom = 0.5862628976289677\n",
      "MAE Polynom = 150436.337438039\n",
      "MSE Polynom = 62547414875.131165\n",
      "RMSE Polynom = 250094.8117717182\n"
     ]
    }
   ],
   "source": [
    "R2_score_polynom = r2_score(y_test, y_pred_polynom)\n",
    "MAE_polynom = mean_absolute_error(y_test, y_pred_polynom)\n",
    "MSE_polynom = mean_squared_error(y_test, y_pred_polynom)\n",
    "RMSE_polynom = np.sqrt(mean_squared_error(y_test, y_pred_polynom))\n",
    "\n",
    "print(f\"R2_score Polynom = {R2_score_polynom}\")\n",
    "print(f\"MAE Polynom = {MAE_polynom}\")\n",
    "print(f\"MSE Polynom = {MSE_polynom}\")\n",
    "print(f\"RMSE Polynom = {RMSE_polynom}\")"
   ]
  },
  {
   "cell_type": "markdown",
   "metadata": {},
   "source": [
    "### Summary Polynomial Regression "
   ]
  },
  {
   "cell_type": "code",
   "execution_count": 31,
   "metadata": {},
   "outputs": [
    {
     "data": {
      "text/html": [
       "<div>\n",
       "<style scoped>\n",
       "    .dataframe tbody tr th:only-of-type {\n",
       "        vertical-align: middle;\n",
       "    }\n",
       "\n",
       "    .dataframe tbody tr th {\n",
       "        vertical-align: top;\n",
       "    }\n",
       "\n",
       "    .dataframe thead th {\n",
       "        text-align: right;\n",
       "    }\n",
       "</style>\n",
       "<table border=\"1\" class=\"dataframe\">\n",
       "  <thead>\n",
       "    <tr style=\"text-align: right;\">\n",
       "      <th></th>\n",
       "      <th>R2_Score</th>\n",
       "      <th>MAE</th>\n",
       "      <th>MSE</th>\n",
       "      <th>RMSE</th>\n",
       "    </tr>\n",
       "  </thead>\n",
       "  <tbody>\n",
       "    <tr>\n",
       "      <th>Multiple Linear Regression</th>\n",
       "      <td>0.586539</td>\n",
       "      <td>157911.860133</td>\n",
       "      <td>6.250565e+10</td>\n",
       "      <td>250011.297021</td>\n",
       "    </tr>\n",
       "    <tr>\n",
       "      <th>Polynomial</th>\n",
       "      <td>0.586263</td>\n",
       "      <td>150436.337438</td>\n",
       "      <td>6.254741e+10</td>\n",
       "      <td>250094.811772</td>\n",
       "    </tr>\n",
       "  </tbody>\n",
       "</table>\n",
       "</div>"
      ],
      "text/plain": [
       "                            R2_Score            MAE           MSE  \\\n",
       "Multiple Linear Regression  0.586539  157911.860133  6.250565e+10   \n",
       "Polynomial                  0.586263  150436.337438  6.254741e+10   \n",
       "\n",
       "                                     RMSE  \n",
       "Multiple Linear Regression  250011.297021  \n",
       "Polynomial                  250094.811772  "
      ]
     },
     "execution_count": 31,
     "metadata": {},
     "output_type": "execute_result"
    }
   ],
   "source": [
    "result = {\n",
    "    \"Multiple Linear Regression\" : [R2_score_MLR, MAE_MLR, MSE_MLR, RMSE_MLR],\n",
    "    \"Polynomial\" : [R2_score_polynom, MAE_polynom, MSE_polynom, RMSE_polynom]\n",
    "}\n",
    "\n",
    "pd.DataFrame(data= result, index=['R2_Score', 'MAE', 'MSE', 'RMSE']).T"
   ]
  },
  {
   "cell_type": "markdown",
   "metadata": {},
   "source": [
    "### Analysis\n",
    "R2 score for Multiple Linear Regression is higher than Polynomial Regression. We can consider to use Multiple Linear Regression"
   ]
  },
  {
   "cell_type": "code",
   "execution_count": 32,
   "metadata": {},
   "outputs": [
    {
     "data": {
      "image/png": "[encoded data removed]",
      "text/plain": [
       "<Figure size 576x432 with 1 Axes>"
      ]
     },
     "metadata": {
      "needs_background": "light"
     },
     "output_type": "display_data"
    }
   ],
   "source": [
    "# Scatter plot of actual price and predicted price\n",
    "plt.figure(figsize=(8,6))\n",
    "plt.scatter(y_pred_polynom, y_test)\n",
    "plt.xlabel('y_pred')\n",
    "plt.ylabel('y_test')\n",
    "plt.show()"
   ]
  },
  {
   "cell_type": "code",
   "execution_count": 33,
   "metadata": {},
   "outputs": [
    {
     "data": {
      "image/png": "[encoded data removed]",
      "text/plain": [
       "<Figure size 432x288 with 1 Axes>"
      ]
     },
     "metadata": {
      "needs_background": "light"
     },
     "output_type": "display_data"
    }
   ],
   "source": [
    "#Plot the error\n",
    "g=plt.plot((y_test - y_pred_polynom),marker='o',linestyle='')"
   ]
  },
  {
   "cell_type": "markdown",
   "metadata": {},
   "source": [
    "## Decision Tree Regression"
   ]
  },
  {
   "cell_type": "code",
   "execution_count": 34,
   "metadata": {},
   "outputs": [],
   "source": [
    "from sklearn.tree import DecisionTreeRegressor\n",
    "model_DecTree = DecisionTreeRegressor()"
   ]
  },
  {
   "cell_type": "markdown",
   "metadata": {},
   "source": [
    "#### Without Scaling"
   ]
  },
  {
   "cell_type": "code",
   "execution_count": 35,
   "metadata": {},
   "outputs": [],
   "source": [
    "model_DecTree.fit(X_train, y_train)\n",
    "y_pred_DecTree = model_DecTree.predict(X_test)"
   ]
  },
  {
   "cell_type": "code",
   "execution_count": 36,
   "metadata": {},
   "outputs": [
    {
     "name": "stdout",
     "output_type": "stream",
     "text": [
      "R2_score DecTree = 0.31572195689424376\n",
      "MAE DecTree = 196382.93434343438\n",
      "MSE DecTree = 103446904826.28381\n",
      "RMSE DecTree = 321631.6290825326\n"
     ]
    }
   ],
   "source": [
    "R2_score_DecTree = r2_score(y_test, y_pred_DecTree)\n",
    "MAE_DecTree = mean_absolute_error(y_test, y_pred_DecTree)\n",
    "MSE_DecTree = mean_squared_error(y_test, y_pred_DecTree)\n",
    "RMSE_DecTree = np.sqrt(mean_squared_error(y_test, y_pred_DecTree))\n",
    "\n",
    "print(f\"R2_score DecTree = {R2_score_DecTree}\")\n",
    "print(f\"MAE DecTree = {MAE_DecTree}\")\n",
    "print(f\"MSE DecTree = {MSE_DecTree}\")\n",
    "print(f\"RMSE DecTree = {RMSE_DecTree}\")"
   ]
  },
  {
   "cell_type": "markdown",
   "metadata": {},
   "source": [
    "#### MinMax Scaling"
   ]
  },
  {
   "cell_type": "code",
   "execution_count": 37,
   "metadata": {},
   "outputs": [],
   "source": [
    "model_DecTree.fit(X_train_mm, y_train)\n",
    "y_pred_DecTree_mm = model_DecTree.predict(X_test_mm)"
   ]
  },
  {
   "cell_type": "code",
   "execution_count": 38,
   "metadata": {},
   "outputs": [
    {
     "name": "stdout",
     "output_type": "stream",
     "text": [
      "R2_score DecTree MinMax = -0.3940278317500405\n",
      "MAE DecTree MinMax = 282399.6884108258\n",
      "MSE DecTree MinMax = 210744544398.52557\n",
      "RMSE DecTree MinMax = 459069.21525901253\n"
     ]
    }
   ],
   "source": [
    "R2_score_DecTree_mm = r2_score(y_test, y_pred_DecTree_mm)\n",
    "MAE_DecTree_mm = mean_absolute_error(y_test, y_pred_DecTree_mm)\n",
    "MSE_DecTree_mm = mean_squared_error(y_test, y_pred_DecTree_mm)\n",
    "RMSE_DecTree_mm = np.sqrt(mean_squared_error(y_test, y_pred_DecTree_mm))\n",
    "\n",
    "print(f\"R2_score DecTree MinMax = {R2_score_DecTree_mm}\")\n",
    "print(f\"MAE DecTree MinMax = {MAE_DecTree_mm}\")\n",
    "print(f\"MSE DecTree MinMax = {MSE_DecTree_mm}\")\n",
    "print(f\"RMSE DecTree MinMax = {RMSE_DecTree_mm}\")"
   ]
  },
  {
   "cell_type": "markdown",
   "metadata": {},
   "source": [
    "#### Robust Scaling"
   ]
  },
  {
   "cell_type": "code",
   "execution_count": 39,
   "metadata": {},
   "outputs": [],
   "source": [
    "model_DecTree.fit(X_train_r, y_train)\n",
    "y_pred_DecTree_r = model_DecTree.predict(X_test_r)"
   ]
  },
  {
   "cell_type": "code",
   "execution_count": 40,
   "metadata": {},
   "outputs": [
    {
     "name": "stdout",
     "output_type": "stream",
     "text": [
      "R2_score DecTree Robust = 0.29225625949198464\n",
      "MAE DecTree Robust = 203225.09761739534\n",
      "MSE DecTree Robust = 106994371810.37161\n",
      "RMSE DecTree Robust = 327099.9416239196\n"
     ]
    }
   ],
   "source": [
    "R2_score_DecTree_r = r2_score(y_test, y_pred_DecTree_r)\n",
    "MAE_DecTree_r = mean_absolute_error(y_test, y_pred_DecTree_r)\n",
    "MSE_DecTree_r = mean_squared_error(y_test, y_pred_DecTree_r)\n",
    "RMSE_DecTree_r = np.sqrt(mean_squared_error(y_test, y_pred_DecTree_r))\n",
    "\n",
    "print(f\"R2_score DecTree Robust = {R2_score_DecTree_r}\")\n",
    "print(f\"MAE DecTree Robust = {MAE_DecTree_r}\")\n",
    "print(f\"MSE DecTree Robust = {MSE_DecTree_r}\")\n",
    "print(f\"RMSE DecTree Robust = {RMSE_DecTree_r}\")"
   ]
  },
  {
   "cell_type": "markdown",
   "metadata": {},
   "source": [
    "#### Standard Scaling"
   ]
  },
  {
   "cell_type": "code",
   "execution_count": 41,
   "metadata": {},
   "outputs": [],
   "source": [
    "model_DecTree.fit(X_train_s, y_train)\n",
    "y_pred_DecTree_s = model_DecTree.predict(X_test_s)"
   ]
  },
  {
   "cell_type": "code",
   "execution_count": 42,
   "metadata": {},
   "outputs": [
    {
     "name": "stdout",
     "output_type": "stream",
     "text": [
      "R2_score DecTree Standard = 0.3292372225796337\n",
      "MAE DecTree Standard = 196371.7941533657\n",
      "MSE DecTree Standard = 101403711394.68864\n",
      "RMSE DecTree Standard = 318439.49408747756\n"
     ]
    }
   ],
   "source": [
    "R2_score_DecTree_s = r2_score(y_test, y_pred_DecTree_s)\n",
    "MAE_DecTree_s = mean_absolute_error(y_test, y_pred_DecTree_s)\n",
    "MSE_DecTree_s = mean_squared_error(y_test, y_pred_DecTree_s)\n",
    "RMSE_DecTree_s = np.sqrt(mean_squared_error(y_test, y_pred_DecTree_s))\n",
    "\n",
    "print(f\"R2_score DecTree Standard = {R2_score_DecTree_s}\")\n",
    "print(f\"MAE DecTree Standard = {MAE_DecTree_s}\")\n",
    "print(f\"MSE DecTree Standard = {MSE_DecTree_s}\")\n",
    "print(f\"RMSE DecTree Standard = {RMSE_DecTree_s}\")"
   ]
  },
  {
   "cell_type": "code",
   "execution_count": 43,
   "metadata": {},
   "outputs": [
    {
     "data": {
      "text/html": [
       "<div>\n",
       "<style scoped>\n",
       "    .dataframe tbody tr th:only-of-type {\n",
       "        vertical-align: middle;\n",
       "    }\n",
       "\n",
       "    .dataframe tbody tr th {\n",
       "        vertical-align: top;\n",
       "    }\n",
       "\n",
       "    .dataframe thead th {\n",
       "        text-align: right;\n",
       "    }\n",
       "</style>\n",
       "<table border=\"1\" class=\"dataframe\">\n",
       "  <thead>\n",
       "    <tr style=\"text-align: right;\">\n",
       "      <th></th>\n",
       "      <th>R2_Score</th>\n",
       "      <th>MAE</th>\n",
       "      <th>MSE</th>\n",
       "      <th>RMSE</th>\n",
       "    </tr>\n",
       "  </thead>\n",
       "  <tbody>\n",
       "    <tr>\n",
       "      <th>Without Scaling Decision Tree</th>\n",
       "      <td>0.315722</td>\n",
       "      <td>196382.934343</td>\n",
       "      <td>1.034469e+11</td>\n",
       "      <td>321631.629083</td>\n",
       "    </tr>\n",
       "    <tr>\n",
       "      <th>MinMax</th>\n",
       "      <td>-0.394028</td>\n",
       "      <td>282399.688411</td>\n",
       "      <td>2.107445e+11</td>\n",
       "      <td>459069.215259</td>\n",
       "    </tr>\n",
       "    <tr>\n",
       "      <th>Robust</th>\n",
       "      <td>0.292256</td>\n",
       "      <td>203225.097617</td>\n",
       "      <td>1.069944e+11</td>\n",
       "      <td>327099.941624</td>\n",
       "    </tr>\n",
       "    <tr>\n",
       "      <th>Standard</th>\n",
       "      <td>0.329237</td>\n",
       "      <td>196371.794153</td>\n",
       "      <td>1.014037e+11</td>\n",
       "      <td>318439.494087</td>\n",
       "    </tr>\n",
       "  </tbody>\n",
       "</table>\n",
       "</div>"
      ],
      "text/plain": [
       "                               R2_Score            MAE           MSE  \\\n",
       "Without Scaling Decision Tree  0.315722  196382.934343  1.034469e+11   \n",
       "MinMax                        -0.394028  282399.688411  2.107445e+11   \n",
       "Robust                         0.292256  203225.097617  1.069944e+11   \n",
       "Standard                       0.329237  196371.794153  1.014037e+11   \n",
       "\n",
       "                                        RMSE  \n",
       "Without Scaling Decision Tree  321631.629083  \n",
       "MinMax                         459069.215259  \n",
       "Robust                         327099.941624  \n",
       "Standard                       318439.494087  "
      ]
     },
     "execution_count": 43,
     "metadata": {},
     "output_type": "execute_result"
    }
   ],
   "source": [
    "result_DecTree = {\n",
    "    \"Without Scaling Decision Tree\" : [R2_score_DecTree, MAE_DecTree, MSE_DecTree, RMSE_DecTree],\n",
    "    \"MinMax\" : [R2_score_DecTree_mm, MAE_DecTree_mm, MSE_DecTree_mm, RMSE_DecTree_mm],\n",
    "    \"Robust\" : [R2_score_DecTree_r, MAE_DecTree_r, MSE_DecTree_r, RMSE_DecTree_r],\n",
    "    \"Standard\" : [R2_score_DecTree_s, MAE_DecTree_s, MSE_DecTree_s, RMSE_DecTree_s]\n",
    "}\n",
    "\n",
    "pd.DataFrame(data= result_DecTree, index=['R2_Score', 'MAE', 'MSE', 'RMSE']).T"
   ]
  },
  {
   "cell_type": "markdown",
   "metadata": {},
   "source": [
    "### Analysis\n",
    "Continue using `Without scaling` Decision Tree"
   ]
  },
  {
   "cell_type": "markdown",
   "metadata": {},
   "source": [
    "## Summary Decision Tree "
   ]
  },
  {
   "cell_type": "code",
   "execution_count": 44,
   "metadata": {},
   "outputs": [
    {
     "data": {
      "text/html": [
       "<div>\n",
       "<style scoped>\n",
       "    .dataframe tbody tr th:only-of-type {\n",
       "        vertical-align: middle;\n",
       "    }\n",
       "\n",
       "    .dataframe tbody tr th {\n",
       "        vertical-align: top;\n",
       "    }\n",
       "\n",
       "    .dataframe thead th {\n",
       "        text-align: right;\n",
       "    }\n",
       "</style>\n",
       "<table border=\"1\" class=\"dataframe\">\n",
       "  <thead>\n",
       "    <tr style=\"text-align: right;\">\n",
       "      <th></th>\n",
       "      <th>R2_Score</th>\n",
       "      <th>MAE</th>\n",
       "      <th>MSE</th>\n",
       "      <th>RMSE</th>\n",
       "    </tr>\n",
       "  </thead>\n",
       "  <tbody>\n",
       "    <tr>\n",
       "      <th>Multiple Linear Regression</th>\n",
       "      <td>0.586539</td>\n",
       "      <td>157911.860133</td>\n",
       "      <td>6.250565e+10</td>\n",
       "      <td>250011.297021</td>\n",
       "    </tr>\n",
       "    <tr>\n",
       "      <th>Polynomial</th>\n",
       "      <td>0.586263</td>\n",
       "      <td>150436.337438</td>\n",
       "      <td>6.254741e+10</td>\n",
       "      <td>250094.811772</td>\n",
       "    </tr>\n",
       "    <tr>\n",
       "      <th>Decision Tree</th>\n",
       "      <td>0.315722</td>\n",
       "      <td>196382.934343</td>\n",
       "      <td>1.034469e+11</td>\n",
       "      <td>321631.629083</td>\n",
       "    </tr>\n",
       "  </tbody>\n",
       "</table>\n",
       "</div>"
      ],
      "text/plain": [
       "                            R2_Score            MAE           MSE  \\\n",
       "Multiple Linear Regression  0.586539  157911.860133  6.250565e+10   \n",
       "Polynomial                  0.586263  150436.337438  6.254741e+10   \n",
       "Decision Tree               0.315722  196382.934343  1.034469e+11   \n",
       "\n",
       "                                     RMSE  \n",
       "Multiple Linear Regression  250011.297021  \n",
       "Polynomial                  250094.811772  \n",
       "Decision Tree               321631.629083  "
      ]
     },
     "execution_count": 44,
     "metadata": {},
     "output_type": "execute_result"
    }
   ],
   "source": [
    "result_MLR_Pol_DecTree = {\n",
    "    \"Multiple Linear Regression\" : [R2_score_MLR, MAE_MLR, MSE_MLR, RMSE_MLR],\n",
    "    \"Polynomial\" : [R2_score_polynom, MAE_polynom, MSE_polynom, RMSE_polynom],\n",
    "    \"Decision Tree\" : [R2_score_DecTree, MAE_DecTree, MSE_DecTree, RMSE_DecTree]\n",
    "}\n",
    "\n",
    "pd.DataFrame(data= result_MLR_Pol_DecTree, index=['R2_Score', 'MAE', 'MSE', 'RMSE']).T"
   ]
  },
  {
   "cell_type": "markdown",
   "metadata": {},
   "source": [
    "### Analysis\n",
    "Multiple Linear Regression still has the best R2 score."
   ]
  },
  {
   "cell_type": "code",
   "execution_count": 45,
   "metadata": {},
   "outputs": [
    {
     "data": {
      "image/png": "[encoded data removed]",
      "text/plain": [
       "<Figure size 576x432 with 1 Axes>"
      ]
     },
     "metadata": {
      "needs_background": "light"
     },
     "output_type": "display_data"
    }
   ],
   "source": [
    "# Scatter plot of actual price and predicted price\n",
    "plt.figure(figsize=(8,6))\n",
    "plt.scatter(y_pred_DecTree, y_test)\n",
    "plt.xlabel('y_pred')\n",
    "plt.ylabel('y_test')\n",
    "plt.show()"
   ]
  },
  {
   "cell_type": "code",
   "execution_count": 46,
   "metadata": {},
   "outputs": [
    {
     "data": {
      "image/png": "[encoded data removed]",
      "text/plain": [
       "<Figure size 432x288 with 1 Axes>"
      ]
     },
     "metadata": {
      "needs_background": "light"
     },
     "output_type": "display_data"
    }
   ],
   "source": [
    "#Plot the error\n",
    "g=plt.plot((y_test - y_pred_DecTree),marker='o',linestyle='')"
   ]
  },
  {
   "cell_type": "markdown",
   "metadata": {},
   "source": [
    "## Random Forest Regression"
   ]
  },
  {
   "cell_type": "code",
   "execution_count": 47,
   "metadata": {},
   "outputs": [],
   "source": [
    "from sklearn.ensemble import RandomForestRegressor\n",
    "model_RF = RandomForestRegressor(n_estimators=1000, max_depth=7)\n"
   ]
  },
  {
   "cell_type": "markdown",
   "metadata": {},
   "source": [
    "#### Without Scaling"
   ]
  },
  {
   "cell_type": "code",
   "execution_count": 48,
   "metadata": {},
   "outputs": [],
   "source": [
    "model_RF.fit(X_train, y_train)\n",
    "y_pred_RF = model_RF.predict(X_test)"
   ]
  },
  {
   "cell_type": "code",
   "execution_count": 49,
   "metadata": {},
   "outputs": [
    {
     "name": "stdout",
     "output_type": "stream",
     "text": [
      "R2_score Random Forest = 0.6095196850678728\n",
      "MAE Random Forest = 148890.95714019306\n",
      "MSE Random Forest = 59031530212.460945\n",
      "RMSE Random Forest = 242964.0512760292\n"
     ]
    }
   ],
   "source": [
    "R2_score_RF = r2_score(y_test, y_pred_RF)\n",
    "MAE_RF = mean_absolute_error(y_test, y_pred_RF)\n",
    "MSE_RF = mean_squared_error(y_test, y_pred_RF)\n",
    "RMSE_RF = np.sqrt(mean_squared_error(y_test, y_pred_RF))\n",
    "\n",
    "print(f\"R2_score Random Forest = {R2_score_RF}\")\n",
    "print(f\"MAE Random Forest = {MAE_RF}\")\n",
    "print(f\"MSE Random Forest = {MSE_RF}\")\n",
    "print(f\"RMSE Random Forest = {RMSE_RF}\")"
   ]
  },
  {
   "cell_type": "code",
   "execution_count": 50,
   "metadata": {},
   "outputs": [
    {
     "data": {
      "text/html": [
       "<div>\n",
       "<style scoped>\n",
       "    .dataframe tbody tr th:only-of-type {\n",
       "        vertical-align: middle;\n",
       "    }\n",
       "\n",
       "    .dataframe tbody tr th {\n",
       "        vertical-align: top;\n",
       "    }\n",
       "\n",
       "    .dataframe thead th {\n",
       "        text-align: right;\n",
       "    }\n",
       "</style>\n",
       "<table border=\"1\" class=\"dataframe\">\n",
       "  <thead>\n",
       "    <tr style=\"text-align: right;\">\n",
       "      <th></th>\n",
       "      <th>R2_Score</th>\n",
       "      <th>MAE</th>\n",
       "      <th>MSE</th>\n",
       "      <th>RMSE</th>\n",
       "    </tr>\n",
       "  </thead>\n",
       "  <tbody>\n",
       "    <tr>\n",
       "      <th>Random Forest</th>\n",
       "      <td>0.60952</td>\n",
       "      <td>148890.95714</td>\n",
       "      <td>5.903153e+10</td>\n",
       "      <td>242964.051276</td>\n",
       "    </tr>\n",
       "  </tbody>\n",
       "</table>\n",
       "</div>"
      ],
      "text/plain": [
       "               R2_Score           MAE           MSE           RMSE\n",
       "Random Forest   0.60952  148890.95714  5.903153e+10  242964.051276"
      ]
     },
     "execution_count": 50,
     "metadata": {},
     "output_type": "execute_result"
    }
   ],
   "source": [
    "result_RF = {\n",
    "    \"Random Forest\" : [R2_score_RF, MAE_RF, MSE_RF, RMSE_RF]\n",
    "}\n",
    "\n",
    "pd.DataFrame(data= result_RF, index=['R2_Score', 'MAE', 'MSE', 'RMSE']).T"
   ]
  },
  {
   "cell_type": "markdown",
   "metadata": {},
   "source": [
    "### Analysis\n",
    "For Random Forest has 0.61 R2 score"
   ]
  },
  {
   "cell_type": "markdown",
   "metadata": {},
   "source": [
    "## Summary Random Forest "
   ]
  },
  {
   "cell_type": "code",
   "execution_count": 51,
   "metadata": {},
   "outputs": [
    {
     "data": {
      "image/png": "[encoded data removed]",
      "text/plain": [
       "<Figure size 576x432 with 1 Axes>"
      ]
     },
     "metadata": {
      "needs_background": "light"
     },
     "output_type": "display_data"
    }
   ],
   "source": [
    "# Scatter plot of actual price and predicted price\n",
    "plt.figure(figsize=(8,6))\n",
    "plt.scatter(y_pred_RF, y_test)\n",
    "plt.xlabel('y_pred')\n",
    "plt.ylabel('y_test')\n",
    "plt.show()"
   ]
  },
  {
   "cell_type": "code",
   "execution_count": 52,
   "metadata": {},
   "outputs": [
    {
     "data": {
      "image/png": "[encoded data removed]",
      "text/plain": [
       "<Figure size 432x288 with 1 Axes>"
      ]
     },
     "metadata": {
      "needs_background": "light"
     },
     "output_type": "display_data"
    }
   ],
   "source": [
    "#Plot the error\n",
    "g=plt.plot((y_test - y_pred_RF),marker='o',linestyle='')"
   ]
  },
  {
   "cell_type": "code",
   "execution_count": 53,
   "metadata": {},
   "outputs": [
    {
     "data": {
      "text/html": [
       "<div>\n",
       "<style scoped>\n",
       "    .dataframe tbody tr th:only-of-type {\n",
       "        vertical-align: middle;\n",
       "    }\n",
       "\n",
       "    .dataframe tbody tr th {\n",
       "        vertical-align: top;\n",
       "    }\n",
       "\n",
       "    .dataframe thead th {\n",
       "        text-align: right;\n",
       "    }\n",
       "</style>\n",
       "<table border=\"1\" class=\"dataframe\">\n",
       "  <thead>\n",
       "    <tr style=\"text-align: right;\">\n",
       "      <th></th>\n",
       "      <th>R2_Score</th>\n",
       "      <th>MAE</th>\n",
       "      <th>MSE</th>\n",
       "      <th>RMSE</th>\n",
       "    </tr>\n",
       "  </thead>\n",
       "  <tbody>\n",
       "    <tr>\n",
       "      <th>Multiple Linear Regression (without scaling)</th>\n",
       "      <td>0.586539</td>\n",
       "      <td>157911.860133</td>\n",
       "      <td>6.250565e+10</td>\n",
       "      <td>250011.297021</td>\n",
       "    </tr>\n",
       "    <tr>\n",
       "      <th>Polynomial</th>\n",
       "      <td>0.586263</td>\n",
       "      <td>150436.337438</td>\n",
       "      <td>6.254741e+10</td>\n",
       "      <td>250094.811772</td>\n",
       "    </tr>\n",
       "    <tr>\n",
       "      <th>Decision Tree (without scaling)</th>\n",
       "      <td>0.315722</td>\n",
       "      <td>196382.934343</td>\n",
       "      <td>1.034469e+11</td>\n",
       "      <td>321631.629083</td>\n",
       "    </tr>\n",
       "    <tr>\n",
       "      <th>Random Forest</th>\n",
       "      <td>0.609520</td>\n",
       "      <td>148890.957140</td>\n",
       "      <td>5.903153e+10</td>\n",
       "      <td>242964.051276</td>\n",
       "    </tr>\n",
       "  </tbody>\n",
       "</table>\n",
       "</div>"
      ],
      "text/plain": [
       "                                              R2_Score            MAE  \\\n",
       "Multiple Linear Regression (without scaling)  0.586539  157911.860133   \n",
       "Polynomial                                    0.586263  150436.337438   \n",
       "Decision Tree (without scaling)               0.315722  196382.934343   \n",
       "Random Forest                                 0.609520  148890.957140   \n",
       "\n",
       "                                                       MSE           RMSE  \n",
       "Multiple Linear Regression (without scaling)  6.250565e+10  250011.297021  \n",
       "Polynomial                                    6.254741e+10  250094.811772  \n",
       "Decision Tree (without scaling)               1.034469e+11  321631.629083  \n",
       "Random Forest                                 5.903153e+10  242964.051276  "
      ]
     },
     "execution_count": 53,
     "metadata": {},
     "output_type": "execute_result"
    }
   ],
   "source": [
    "result_MLR_Pol_DecTree_RF = {\n",
    "    \"Multiple Linear Regression (without scaling)\" : [R2_score_MLR, MAE_MLR, MSE_MLR, RMSE_MLR],\n",
    "    \"Polynomial\" : [R2_score_polynom, MAE_polynom, MSE_polynom, RMSE_polynom],\n",
    "    \"Decision Tree (without scaling)\" : [R2_score_DecTree, MAE_DecTree, MSE_DecTree, RMSE_DecTree],\n",
    "    \"Random Forest\" : [R2_score_RF, MAE_RF, MSE_RF, RMSE_RF]\n",
    "}\n",
    "\n",
    "pd.DataFrame(data= result_MLR_Pol_DecTree_RF, index=['R2_Score', 'MAE', 'MSE', 'RMSE']).T"
   ]
  },
  {
   "cell_type": "markdown",
   "metadata": {},
   "source": [
    "## Analysis\n",
    "\n",
    "Use Random Forest Modelling"
   ]
  },
  {
   "cell_type": "markdown",
   "metadata": {},
   "source": [
    "## KNN"
   ]
  },
  {
   "cell_type": "code",
   "execution_count": 54,
   "metadata": {},
   "outputs": [],
   "source": [
    "from sklearn.neighbors import KNeighborsRegressor\n",
    "model_knn = KNeighborsRegressor()"
   ]
  },
  {
   "cell_type": "markdown",
   "metadata": {},
   "source": [
    "#### Without Scaling"
   ]
  },
  {
   "cell_type": "code",
   "execution_count": 55,
   "metadata": {},
   "outputs": [],
   "source": [
    "model_knn.fit(X_train, y_train)\n",
    "y_pred_knn = model_knn.predict(X_test)"
   ]
  },
  {
   "cell_type": "code",
   "execution_count": 56,
   "metadata": {},
   "outputs": [
    {
     "name": "stdout",
     "output_type": "stream",
     "text": [
      "R2_score KNN = 0.5009030738228526\n",
      "MAE KNN = 174280.90765671985\n",
      "MSE KNN = 75451832396.9642\n",
      "RMSE KNN = 274684.96936848253\n"
     ]
    }
   ],
   "source": [
    "R2_score_knn = r2_score(y_test, y_pred_knn)\n",
    "MAE_knn = mean_absolute_error(y_test, y_pred_knn)\n",
    "MSE_knn = mean_squared_error(y_test, y_pred_knn)\n",
    "RMSE_knn = np.sqrt(mean_squared_error(y_test, y_pred_knn))\n",
    "\n",
    "print(f\"R2_score KNN = {R2_score_knn}\")\n",
    "print(f\"MAE KNN = {MAE_knn}\")\n",
    "print(f\"MSE KNN = {MSE_knn}\")\n",
    "print(f\"RMSE KNN = {RMSE_knn}\")"
   ]
  },
  {
   "cell_type": "markdown",
   "metadata": {},
   "source": [
    "#### MinMax"
   ]
  },
  {
   "cell_type": "code",
   "execution_count": 57,
   "metadata": {},
   "outputs": [],
   "source": [
    "model_knn.fit(X_train_mm, y_train)\n",
    "y_pred_knn_mm = model_knn.predict(X_test_mm)"
   ]
  },
  {
   "cell_type": "code",
   "execution_count": 58,
   "metadata": {},
   "outputs": [
    {
     "name": "stdout",
     "output_type": "stream",
     "text": [
      "R2_score MinMax KNN = 0.4898215665684468\n",
      "MAE MinMax KNN = 174575.91996298867\n",
      "MSE MinMax KNN = 77127098230.53578\n",
      "RMSE MinMax KNN = 277717.6591982148\n"
     ]
    }
   ],
   "source": [
    "R2_score_knn_mm = r2_score(y_test, y_pred_knn_mm)\n",
    "MAE_knn_mm = mean_absolute_error(y_test, y_pred_knn_mm)\n",
    "MSE_knn_mm = mean_squared_error(y_test, y_pred_knn_mm)\n",
    "RMSE_knn_mm = np.sqrt(mean_squared_error(y_test, y_pred_knn_mm))\n",
    "\n",
    "print(f\"R2_score MinMax KNN = {R2_score_knn_mm}\")\n",
    "print(f\"MAE MinMax KNN = {MAE_knn_mm}\")\n",
    "print(f\"MSE MinMax KNN = {MSE_knn_mm}\")\n",
    "print(f\"RMSE MinMax KNN = {RMSE_knn_mm}\")"
   ]
  },
  {
   "cell_type": "markdown",
   "metadata": {},
   "source": [
    "#### Robust Scaling"
   ]
  },
  {
   "cell_type": "code",
   "execution_count": 59,
   "metadata": {},
   "outputs": [],
   "source": [
    "model_knn.fit(X_train_r, y_train)\n",
    "y_pred_knn_r = model_knn.predict(X_test_r)"
   ]
  },
  {
   "cell_type": "code",
   "execution_count": 60,
   "metadata": {},
   "outputs": [
    {
     "name": "stdout",
     "output_type": "stream",
     "text": [
      "R2_score Robust KNN = 0.5885144231965609\n",
      "MAE Robust KNN = 154185.28674531574\n",
      "MSE Robust KNN = 62207036642.260185\n",
      "RMSE Robust KNN = 249413.385050322\n"
     ]
    }
   ],
   "source": [
    "R2_score_knn_r = r2_score(y_test, y_pred_knn_r)\n",
    "MAE_knn_r = mean_absolute_error(y_test, y_pred_knn_r)\n",
    "MSE_knn_r = mean_squared_error(y_test, y_pred_knn_r)\n",
    "RMSE_knn_r = np.sqrt(mean_squared_error(y_test, y_pred_knn_r))\n",
    "\n",
    "print(f\"R2_score Robust KNN = {R2_score_knn_r}\")\n",
    "print(f\"MAE Robust KNN = {MAE_knn_r}\")\n",
    "print(f\"MSE Robust KNN = {MSE_knn_r}\")\n",
    "print(f\"RMSE Robust KNN = {RMSE_knn_r}\")"
   ]
  },
  {
   "cell_type": "markdown",
   "metadata": {},
   "source": [
    "#### Standard Scaling"
   ]
  },
  {
   "cell_type": "code",
   "execution_count": 61,
   "metadata": {},
   "outputs": [],
   "source": [
    "model_knn.fit(X_train_s, y_train)\n",
    "y_pred_knn_s = model_knn.predict(X_test_s)"
   ]
  },
  {
   "cell_type": "code",
   "execution_count": 62,
   "metadata": {},
   "outputs": [
    {
     "name": "stdout",
     "output_type": "stream",
     "text": [
      "R2_score Standard Scaling KNN = 0.5796580653143384\n",
      "MAE Standard Scaling KNN = 155172.75808466345\n",
      "MSE Standard Scaling KNN = 63545911709.46467\n",
      "RMSE Standard Scaling KNN = 252083.1444374349\n"
     ]
    }
   ],
   "source": [
    "R2_score_knn_s = r2_score(y_test, y_pred_knn_s)\n",
    "MAE_knn_s = mean_absolute_error(y_test, y_pred_knn_s)\n",
    "MSE_knn_s = mean_squared_error(y_test, y_pred_knn_s)\n",
    "RMSE_knn_s = np.sqrt(mean_squared_error(y_test, y_pred_knn_s))\n",
    "\n",
    "print(f\"R2_score Standard Scaling KNN = {R2_score_knn_s}\")\n",
    "print(f\"MAE Standard Scaling KNN = {MAE_knn_s}\")\n",
    "print(f\"MSE Standard Scaling KNN = {MSE_knn_s}\")\n",
    "print(f\"RMSE Standard Scaling KNN = {RMSE_knn_s}\")"
   ]
  },
  {
   "cell_type": "code",
   "execution_count": 63,
   "metadata": {},
   "outputs": [
    {
     "data": {
      "text/html": [
       "<div>\n",
       "<style scoped>\n",
       "    .dataframe tbody tr th:only-of-type {\n",
       "        vertical-align: middle;\n",
       "    }\n",
       "\n",
       "    .dataframe tbody tr th {\n",
       "        vertical-align: top;\n",
       "    }\n",
       "\n",
       "    .dataframe thead th {\n",
       "        text-align: right;\n",
       "    }\n",
       "</style>\n",
       "<table border=\"1\" class=\"dataframe\">\n",
       "  <thead>\n",
       "    <tr style=\"text-align: right;\">\n",
       "      <th></th>\n",
       "      <th>R2_Score</th>\n",
       "      <th>MAE</th>\n",
       "      <th>MSE</th>\n",
       "      <th>RMSE</th>\n",
       "    </tr>\n",
       "  </thead>\n",
       "  <tbody>\n",
       "    <tr>\n",
       "      <th>Without Scaling KNN</th>\n",
       "      <td>0.500903</td>\n",
       "      <td>174280.907657</td>\n",
       "      <td>7.545183e+10</td>\n",
       "      <td>274684.969368</td>\n",
       "    </tr>\n",
       "    <tr>\n",
       "      <th>MinMax</th>\n",
       "      <td>0.489822</td>\n",
       "      <td>174575.919963</td>\n",
       "      <td>7.712710e+10</td>\n",
       "      <td>277717.659198</td>\n",
       "    </tr>\n",
       "    <tr>\n",
       "      <th>Robust</th>\n",
       "      <td>0.588514</td>\n",
       "      <td>154185.286745</td>\n",
       "      <td>6.220704e+10</td>\n",
       "      <td>249413.385050</td>\n",
       "    </tr>\n",
       "    <tr>\n",
       "      <th>Standard</th>\n",
       "      <td>0.579658</td>\n",
       "      <td>155172.758085</td>\n",
       "      <td>6.354591e+10</td>\n",
       "      <td>252083.144437</td>\n",
       "    </tr>\n",
       "  </tbody>\n",
       "</table>\n",
       "</div>"
      ],
      "text/plain": [
       "                     R2_Score            MAE           MSE           RMSE\n",
       "Without Scaling KNN  0.500903  174280.907657  7.545183e+10  274684.969368\n",
       "MinMax               0.489822  174575.919963  7.712710e+10  277717.659198\n",
       "Robust               0.588514  154185.286745  6.220704e+10  249413.385050\n",
       "Standard             0.579658  155172.758085  6.354591e+10  252083.144437"
      ]
     },
     "execution_count": 63,
     "metadata": {},
     "output_type": "execute_result"
    }
   ],
   "source": [
    "result_knn = {\n",
    "    \"Without Scaling KNN\" : [R2_score_knn, MAE_knn, MSE_knn, RMSE_knn],\n",
    "    \"MinMax\" : [R2_score_knn_mm, MAE_knn_mm, MSE_knn_mm, RMSE_knn_mm],\n",
    "    \"Robust\" : [R2_score_knn_r, MAE_knn_r, MSE_knn_r, RMSE_knn_r],\n",
    "    \"Standard\" : [R2_score_knn_s, MAE_knn_s, MSE_knn_s, RMSE_knn_s]\n",
    "}\n",
    "\n",
    "pd.DataFrame(data= result_knn, index=['R2_Score', 'MAE', 'MSE', 'RMSE']).T"
   ]
  },
  {
   "cell_type": "markdown",
   "metadata": {},
   "source": [
    "### Analysis\n",
    "For KNN, using `Robust Scaling`. It has the best R2 score among all."
   ]
  },
  {
   "cell_type": "markdown",
   "metadata": {},
   "source": [
    "## Summary KNN "
   ]
  },
  {
   "cell_type": "code",
   "execution_count": 64,
   "metadata": {},
   "outputs": [
    {
     "data": {
      "image/png": "[encoded data removed]",
      "text/plain": [
       "<Figure size 576x432 with 1 Axes>"
      ]
     },
     "metadata": {
      "needs_background": "light"
     },
     "output_type": "display_data"
    }
   ],
   "source": [
    "# Scatter plot of actual price and predicted price\n",
    "plt.figure(figsize=(8,6))\n",
    "plt.scatter(y_pred_knn_s, y_test)\n",
    "plt.xlabel('y_pred')\n",
    "plt.ylabel('y_test')\n",
    "plt.show()"
   ]
  },
  {
   "cell_type": "code",
   "execution_count": 65,
   "metadata": {},
   "outputs": [
    {
     "data": {
      "image/png": "[encoded data removed]",
      "text/plain": [
       "<Figure size 432x288 with 1 Axes>"
      ]
     },
     "metadata": {
      "needs_background": "light"
     },
     "output_type": "display_data"
    }
   ],
   "source": [
    "#Plot the error\n",
    "g=plt.plot((y_test - y_pred_knn_s), marker='o', linestyle='')"
   ]
  },
  {
   "cell_type": "code",
   "execution_count": 66,
   "metadata": {},
   "outputs": [
    {
     "data": {
      "text/html": [
       "<div>\n",
       "<style scoped>\n",
       "    .dataframe tbody tr th:only-of-type {\n",
       "        vertical-align: middle;\n",
       "    }\n",
       "\n",
       "    .dataframe tbody tr th {\n",
       "        vertical-align: top;\n",
       "    }\n",
       "\n",
       "    .dataframe thead th {\n",
       "        text-align: right;\n",
       "    }\n",
       "</style>\n",
       "<table border=\"1\" class=\"dataframe\">\n",
       "  <thead>\n",
       "    <tr style=\"text-align: right;\">\n",
       "      <th></th>\n",
       "      <th>R2_Score</th>\n",
       "      <th>MAE</th>\n",
       "      <th>MSE</th>\n",
       "      <th>RMSE</th>\n",
       "    </tr>\n",
       "  </thead>\n",
       "  <tbody>\n",
       "    <tr>\n",
       "      <th>Multiple Linear Regression (without scaling)</th>\n",
       "      <td>0.586539</td>\n",
       "      <td>157911.860133</td>\n",
       "      <td>6.250565e+10</td>\n",
       "      <td>250011.297021</td>\n",
       "    </tr>\n",
       "    <tr>\n",
       "      <th>Polynomial</th>\n",
       "      <td>0.586263</td>\n",
       "      <td>150436.337438</td>\n",
       "      <td>6.254741e+10</td>\n",
       "      <td>250094.811772</td>\n",
       "    </tr>\n",
       "    <tr>\n",
       "      <th>Decision Tree (without scaling)</th>\n",
       "      <td>0.315722</td>\n",
       "      <td>196382.934343</td>\n",
       "      <td>1.034469e+11</td>\n",
       "      <td>321631.629083</td>\n",
       "    </tr>\n",
       "    <tr>\n",
       "      <th>Random Forest</th>\n",
       "      <td>0.609520</td>\n",
       "      <td>148890.957140</td>\n",
       "      <td>5.903153e+10</td>\n",
       "      <td>242964.051276</td>\n",
       "    </tr>\n",
       "    <tr>\n",
       "      <th>KNN (Robust)</th>\n",
       "      <td>0.588514</td>\n",
       "      <td>154185.286745</td>\n",
       "      <td>6.220704e+10</td>\n",
       "      <td>249413.385050</td>\n",
       "    </tr>\n",
       "  </tbody>\n",
       "</table>\n",
       "</div>"
      ],
      "text/plain": [
       "                                              R2_Score            MAE  \\\n",
       "Multiple Linear Regression (without scaling)  0.586539  157911.860133   \n",
       "Polynomial                                    0.586263  150436.337438   \n",
       "Decision Tree (without scaling)               0.315722  196382.934343   \n",
       "Random Forest                                 0.609520  148890.957140   \n",
       "KNN (Robust)                                  0.588514  154185.286745   \n",
       "\n",
       "                                                       MSE           RMSE  \n",
       "Multiple Linear Regression (without scaling)  6.250565e+10  250011.297021  \n",
       "Polynomial                                    6.254741e+10  250094.811772  \n",
       "Decision Tree (without scaling)               1.034469e+11  321631.629083  \n",
       "Random Forest                                 5.903153e+10  242964.051276  \n",
       "KNN (Robust)                                  6.220704e+10  249413.385050  "
      ]
     },
     "execution_count": 66,
     "metadata": {},
     "output_type": "execute_result"
    }
   ],
   "source": [
    "result_MLR_Pol_DecTree_RF_KNN = {\n",
    "    \"Multiple Linear Regression (without scaling)\" : [R2_score_MLR, MAE_MLR, MSE_MLR, RMSE_MLR],\n",
    "    \"Polynomial\" : [R2_score_polynom, MAE_polynom, MSE_polynom, RMSE_polynom],\n",
    "    \"Decision Tree (without scaling)\" : [R2_score_DecTree, MAE_DecTree, MSE_DecTree, RMSE_DecTree],\n",
    "    \"Random Forest\" : [R2_score_RF, MAE_RF, MSE_RF, RMSE_RF],\n",
    "    \"KNN (Robust)\" : [R2_score_knn_r, MAE_knn_r, MSE_knn_r, RMSE_knn_r]\n",
    "}\n",
    "\n",
    "pd.DataFrame(data= result_MLR_Pol_DecTree_RF_KNN, index=['R2_Score', 'MAE', 'MSE', 'RMSE']).T"
   ]
  },
  {
   "cell_type": "markdown",
   "metadata": {},
   "source": [
    "### Analysis\n",
    "Random Forest has the best R2 score than `Multiple Linear Regression (without scaling)`, `Polynomial`, `Decision Tree (without scaling)`, `KNN (Robust)`."
   ]
  },
  {
   "cell_type": "markdown",
   "metadata": {},
   "source": [
    "## Hyperparameter Tuning"
   ]
  },
  {
   "cell_type": "markdown",
   "metadata": {},
   "source": [
    "### Linear Regression"
   ]
  },
  {
   "cell_type": "code",
   "execution_count": 67,
   "metadata": {},
   "outputs": [],
   "source": [
    "from sklearn.model_selection import GridSearchCV\n",
    "model_LR_tuned = LinearRegression()\n",
    "Hyperparam_LR = {'fit_intercept':[True, False],\n",
    "               'normalize':[False, True],\n",
    "               'copy_X':[True, False]\n",
    "               }"
   ]
  },
  {
   "cell_type": "code",
   "execution_count": 68,
   "metadata": {},
   "outputs": [
    {
     "name": "stdout",
     "output_type": "stream",
     "text": [
      "Fitting 5 folds for each of 8 candidates, totalling 40 fits\n"
     ]
    },
    {
     "name": "stderr",
     "output_type": "stream",
     "text": [
      "[Parallel(n_jobs=-1)]: Using backend LokyBackend with 4 concurrent workers.\n",
      "[Parallel(n_jobs=-1)]: Done  40 out of  40 | elapsed:    7.7s finished\n"
     ]
    },
    {
     "data": {
      "text/plain": [
       "GridSearchCV(cv=5, error_score=nan,\n",
       "             estimator=LinearRegression(copy_X=True, fit_intercept=True,\n",
       "                                        n_jobs=None, normalize=False),\n",
       "             iid='deprecated', n_jobs=-1,\n",
       "             param_grid={'copy_X': [True, False],\n",
       "                         'fit_intercept': [True, False],\n",
       "                         'normalize': [False, True]},\n",
       "             pre_dispatch='2*n_jobs', refit=True, return_train_score=False,\n",
       "             scoring=None, verbose=1)"
      ]
     },
     "execution_count": 68,
     "metadata": {},
     "output_type": "execute_result"
    }
   ],
   "source": [
    "model_LR_tuned = GridSearchCV(estimator = model_LR_tuned, param_grid= Hyperparam_LR, n_jobs = -1, cv = 5, verbose = 1)\n",
    "model_LR_tuned.fit(X_train, y_train)"
   ]
  },
  {
   "cell_type": "code",
   "execution_count": 69,
   "metadata": {},
   "outputs": [
    {
     "data": {
      "text/plain": [
       "{'copy_X': True, 'fit_intercept': True, 'normalize': False}"
      ]
     },
     "execution_count": 69,
     "metadata": {},
     "output_type": "execute_result"
    }
   ],
   "source": [
    "model_LR_tuned.best_params_"
   ]
  },
  {
   "cell_type": "code",
   "execution_count": 70,
   "metadata": {},
   "outputs": [],
   "source": [
    "model_LR_tuned_ = model_LR_tuned.best_estimator_\n",
    "y_LR_tuned =  model_LR_tuned_.predict(X_test)"
   ]
  },
  {
   "cell_type": "code",
   "execution_count": 71,
   "metadata": {},
   "outputs": [
    {
     "name": "stdout",
     "output_type": "stream",
     "text": [
      "R2 Score LR Tuned = 0.5865391719054411\n",
      "MAE LR Tuned = 157911.8601334523\n",
      "MSE LR Tuned = 62505648638.33277\n",
      "RMSE LR Tuned = 250011.29702142015\n"
     ]
    }
   ],
   "source": [
    "R2_score_LR_tuned = r2_score(y_test, y_LR_tuned)\n",
    "MAE_LR_tuned = mean_absolute_error(y_test, y_LR_tuned)\n",
    "MSE_LR_tuned = mean_squared_error(y_test, y_LR_tuned)\n",
    "RMSE_LR_tuned = np.sqrt(mean_squared_error(y_test, y_LR_tuned))\n",
    "\n",
    "print(f\"R2 Score LR Tuned = {R2_score_LR_tuned}\")\n",
    "print(f\"MAE LR Tuned = {MAE_LR_tuned}\")\n",
    "print(f\"MSE LR Tuned = {MSE_LR_tuned}\")\n",
    "print(f\"RMSE LR Tuned = {RMSE_LR_tuned}\")"
   ]
  },
  {
   "cell_type": "markdown",
   "metadata": {},
   "source": [
    "### KNN Regressor"
   ]
  },
  {
   "cell_type": "code",
   "execution_count": 72,
   "metadata": {},
   "outputs": [
    {
     "name": "stdout",
     "output_type": "stream",
     "text": [
      "Fitting 3 folds for each of 12 candidates, totalling 36 fits\n"
     ]
    },
    {
     "name": "stderr",
     "output_type": "stream",
     "text": [
      "[Parallel(n_jobs=-1)]: Using backend LokyBackend with 4 concurrent workers.\n",
      "[Parallel(n_jobs=-1)]: Done  36 out of  36 | elapsed:    5.1s finished\n"
     ]
    },
    {
     "data": {
      "text/plain": [
       "GridSearchCV(cv=3, error_score=nan,\n",
       "             estimator=KNeighborsRegressor(algorithm='auto', leaf_size=30,\n",
       "                                           metric='minkowski',\n",
       "                                           metric_params=None, n_jobs=None,\n",
       "                                           n_neighbors=5, p=2,\n",
       "                                           weights='uniform'),\n",
       "             iid='deprecated', n_jobs=-1,\n",
       "             param_grid={'n_neighbors': [5, 15, 25], 'p': [1, 2],\n",
       "                         'weights': ['uniform', 'distance']},\n",
       "             pre_dispatch='2*n_jobs', refit=True, return_train_score=False,\n",
       "             scoring=None, verbose=1)"
      ]
     },
     "execution_count": 72,
     "metadata": {},
     "output_type": "execute_result"
    }
   ],
   "source": [
    "KNN_tuned = KNeighborsRegressor()\n",
    "param_KNN = {\"n_neighbors\" : [5, 15, 25],\n",
    "            \"weights\" : [\"uniform\", \"distance\"],\n",
    "            \"p\" : [1,2]}\n",
    "\n",
    "model_KNN = GridSearchCV(estimator=KNN_tuned, param_grid=param_KNN, n_jobs = -1, cv = 3, verbose=1 )\n",
    "\n",
    "model_KNN.fit(X_train, y_train)"
   ]
  },
  {
   "cell_type": "code",
   "execution_count": 73,
   "metadata": {},
   "outputs": [
    {
     "data": {
      "text/plain": [
       "{'n_neighbors': 25, 'p': 1, 'weights': 'uniform'}"
      ]
     },
     "execution_count": 73,
     "metadata": {},
     "output_type": "execute_result"
    }
   ],
   "source": [
    "model_KNN.best_params_"
   ]
  },
  {
   "cell_type": "code",
   "execution_count": 74,
   "metadata": {},
   "outputs": [
    {
     "data": {
      "text/plain": [
       "0.5464086843936254"
      ]
     },
     "execution_count": 74,
     "metadata": {},
     "output_type": "execute_result"
    }
   ],
   "source": [
    "model_KNN.best_score_"
   ]
  },
  {
   "cell_type": "code",
   "execution_count": 75,
   "metadata": {},
   "outputs": [
    {
     "data": {
      "text/plain": [
       "KNeighborsRegressor(algorithm='auto', leaf_size=30, metric='minkowski',\n",
       "                    metric_params=None, n_jobs=None, n_neighbors=25, p=1,\n",
       "                    weights='uniform')"
      ]
     },
     "execution_count": 75,
     "metadata": {},
     "output_type": "execute_result"
    }
   ],
   "source": [
    "model_KNN.best_estimator_"
   ]
  },
  {
   "cell_type": "code",
   "execution_count": 76,
   "metadata": {},
   "outputs": [],
   "source": [
    "KNN_Tuned = model_KNN.best_estimator_\n",
    "y_tunedKNN = KNN_Tuned.predict(X_test)"
   ]
  },
  {
   "cell_type": "code",
   "execution_count": 77,
   "metadata": {},
   "outputs": [
    {
     "name": "stdout",
     "output_type": "stream",
     "text": [
      "R2 Score KNN Tuned = 0.5637731450006611\n",
      "MAE KNN Tuned = 163478.87678926668\n",
      "MSE KNN Tuned = 65947341736.94856\n",
      "RMSE KNN Tuned = 256802.14511749812\n"
     ]
    }
   ],
   "source": [
    "r2_tuned_KNN = r2_score(y_test, y_tunedKNN)\n",
    "MAE_tuned_KNN = mean_absolute_error(y_test, y_tunedKNN)\n",
    "MSE_tuned_KNN = mean_squared_error(y_test, y_tunedKNN)\n",
    "RMSE_tuned_KNN = np.sqrt(MSE_tuned_KNN)\n",
    "\n",
    "\n",
    "print(f\"R2 Score KNN Tuned = {r2_tuned_KNN}\")\n",
    "print(f\"MAE KNN Tuned = {MAE_tuned_KNN}\")\n",
    "print(f\"MSE KNN Tuned = {MSE_tuned_KNN}\")\n",
    "print(f\"RMSE KNN Tuned = {RMSE_tuned_KNN}\")"
   ]
  },
  {
   "cell_type": "markdown",
   "metadata": {},
   "source": [
    "### Decision Tree Regressor"
   ]
  },
  {
   "cell_type": "code",
   "execution_count": 78,
   "metadata": {},
   "outputs": [
    {
     "name": "stdout",
     "output_type": "stream",
     "text": [
      "Fitting 3 folds for each of 135 candidates, totalling 405 fits\n"
     ]
    },
    {
     "name": "stderr",
     "output_type": "stream",
     "text": [
      "[Parallel(n_jobs=-1)]: Using backend LokyBackend with 4 concurrent workers.\n",
      "[Parallel(n_jobs=-1)]: Done  42 tasks      | elapsed:    2.0s\n",
      "[Parallel(n_jobs=-1)]: Done 268 tasks      | elapsed:    8.2s\n",
      "[Parallel(n_jobs=-1)]: Done 398 out of 405 | elapsed:   12.1s remaining:    0.1s\n",
      "[Parallel(n_jobs=-1)]: Done 405 out of 405 | elapsed:   12.2s finished\n"
     ]
    },
    {
     "data": {
      "text/plain": [
       "GridSearchCV(cv=3, error_score=nan,\n",
       "             estimator=DecisionTreeRegressor(ccp_alpha=0.0, criterion='mse',\n",
       "                                             max_depth=None, max_features=None,\n",
       "                                             max_leaf_nodes=None,\n",
       "                                             min_impurity_decrease=0.0,\n",
       "                                             min_impurity_split=None,\n",
       "                                             min_samples_leaf=1,\n",
       "                                             min_samples_split=2,\n",
       "                                             min_weight_fraction_leaf=0.0,\n",
       "                                             presort='deprecated',\n",
       "                                             random_state=None,\n",
       "                                             splitter='best'),\n",
       "             iid='deprecated', n_jobs=-1,\n",
       "             param_grid={'max_depth': [None, 5, 7, 9, 20],\n",
       "                         'max_features': [None, 0.8, 0.7],\n",
       "                         'min_samples_leaf': [1, 2, 5],\n",
       "                         'min_samples_split': [2, 9, 15]},\n",
       "             pre_dispatch='2*n_jobs', refit=True, return_train_score=False,\n",
       "             scoring=None, verbose=1)"
      ]
     },
     "execution_count": 78,
     "metadata": {},
     "output_type": "execute_result"
    }
   ],
   "source": [
    "DT_tuned = DecisionTreeRegressor()\n",
    "param_DT ={\"max_depth\" : [None, 5, 7, 9, 20],\n",
    "          \"min_samples_split\" : [2, 9, 15],\n",
    "          \"min_samples_leaf\" : [1, 2, 5],\n",
    "          \"max_features\" : [None, .8, .7]}\n",
    "\n",
    "model_DT = GridSearchCV(estimator=DT_tuned, param_grid=param_DT, cv = 3, n_jobs=-1, verbose=1)\n",
    "model_DT.fit(X_train, y_train)"
   ]
  },
  {
   "cell_type": "code",
   "execution_count": 79,
   "metadata": {},
   "outputs": [
    {
     "data": {
      "text/plain": [
       "{'max_depth': 7,\n",
       " 'max_features': 0.8,\n",
       " 'min_samples_leaf': 2,\n",
       " 'min_samples_split': 9}"
      ]
     },
     "execution_count": 79,
     "metadata": {},
     "output_type": "execute_result"
    }
   ],
   "source": [
    "model_DT.best_params_"
   ]
  },
  {
   "cell_type": "code",
   "execution_count": 80,
   "metadata": {},
   "outputs": [],
   "source": [
    "DT_tuned = model_DT.best_estimator_\n",
    "y_tunedDT = DT_tuned.predict(X_test)"
   ]
  },
  {
   "cell_type": "code",
   "execution_count": 81,
   "metadata": {},
   "outputs": [
    {
     "name": "stdout",
     "output_type": "stream",
     "text": [
      "R2 Score Decision Tree Tuned = 0.5742949859476381\n",
      "MAE Decision Tree Tuned = 154510.91116806705\n",
      "MSE Decision Tree Tuned = 64356684415.695\n",
      "RMSE Decision Tree Tuned = 253686.1927967208\n"
     ]
    }
   ],
   "source": [
    "r2_tuned_DT = r2_score(y_test, y_tunedDT)\n",
    "MAE_tuned_DT = mean_absolute_error(y_test, y_tunedDT)\n",
    "MSE_tuned_DT = mean_squared_error(y_test, y_tunedDT)\n",
    "RMSE_tuned_DT = np.sqrt(MSE_tuned_DT)\n",
    "\n",
    "\n",
    "print(f\"R2 Score Decision Tree Tuned = {r2_tuned_DT}\")\n",
    "print(f\"MAE Decision Tree Tuned = {MAE_tuned_DT}\")\n",
    "print(f\"MSE Decision Tree Tuned = {MSE_tuned_DT}\")\n",
    "print(f\"RMSE Decision Tree Tuned = {RMSE_tuned_DT}\")"
   ]
  },
  {
   "cell_type": "markdown",
   "metadata": {},
   "source": [
    "### Random Forest Regressor"
   ]
  },
  {
   "cell_type": "code",
   "execution_count": 82,
   "metadata": {},
   "outputs": [
    {
     "name": "stdout",
     "output_type": "stream",
     "text": [
      "Fitting 3 folds for each of 540 candidates, totalling 1620 fits\n"
     ]
    },
    {
     "name": "stderr",
     "output_type": "stream",
     "text": [
      "[Parallel(n_jobs=-1)]: Using backend LokyBackend with 4 concurrent workers.\n",
      "[Parallel(n_jobs=-1)]: Done  42 tasks      | elapsed:  7.8min\n",
      "[Parallel(n_jobs=-1)]: Done 192 tasks      | elapsed: 30.8min\n",
      "[Parallel(n_jobs=-1)]: Done 442 tasks      | elapsed: 51.1min\n",
      "[Parallel(n_jobs=-1)]: Done 792 tasks      | elapsed: 69.9min\n",
      "[Parallel(n_jobs=-1)]: Done 1242 tasks      | elapsed: 100.6min\n",
      "[Parallel(n_jobs=-1)]: Done 1620 out of 1620 | elapsed: 142.1min finished\n"
     ]
    },
    {
     "data": {
      "text/plain": [
       "GridSearchCV(cv=3, error_score=nan,\n",
       "             estimator=RandomForestRegressor(bootstrap=True, ccp_alpha=0.0,\n",
       "                                             criterion='mse', max_depth=None,\n",
       "                                             max_features='auto',\n",
       "                                             max_leaf_nodes=None,\n",
       "                                             max_samples=None,\n",
       "                                             min_impurity_decrease=0.0,\n",
       "                                             min_impurity_split=None,\n",
       "                                             min_samples_leaf=1,\n",
       "                                             min_samples_split=2,\n",
       "                                             min_weight_fraction_leaf=0.0,\n",
       "                                             n_estimators=100, n_jobs=None,\n",
       "                                             oob_score=False, random_state=None,\n",
       "                                             verbose=0, warm_start=False),\n",
       "             iid='deprecated', n_jobs=-1,\n",
       "             param_grid={'max_depth': [None, 5, 7, 9, 20],\n",
       "                         'max_features': [None, 0.8, 0.7],\n",
       "                         'min_samples_leaf': [1, 2, 5],\n",
       "                         'min_samples_split': [2, 9, 15],\n",
       "                         'n_estimators': [100, 200, 500, 700]},\n",
       "             pre_dispatch='2*n_jobs', refit=True, return_train_score=False,\n",
       "             scoring=None, verbose=1)"
      ]
     },
     "execution_count": 82,
     "metadata": {},
     "output_type": "execute_result"
    }
   ],
   "source": [
    "RF = RandomForestRegressor()\n",
    "param_RF = {\"n_estimators\" : [100, 200, 500, 700],\n",
    "          \"max_depth\" : [None, 5, 7, 9, 20],\n",
    "          \"min_samples_split\" : [2, 9, 15],\n",
    "          \"min_samples_leaf\" : [1, 2, 5],\n",
    "          \"max_features\" : [None, .8, .7]}\n",
    "\n",
    "model_RF = GridSearchCV(estimator=RF, param_grid=param_RF, cv = 3, n_jobs=-1, verbose=1)\n",
    "model_RF.fit(X_train, y_train)"
   ]
  },
  {
   "cell_type": "code",
   "execution_count": 84,
   "metadata": {},
   "outputs": [
    {
     "data": {
      "text/plain": [
       "{'max_depth': 9,\n",
       " 'max_features': None,\n",
       " 'min_samples_leaf': 1,\n",
       " 'min_samples_split': 2,\n",
       " 'n_estimators': 200}"
      ]
     },
     "execution_count": 84,
     "metadata": {},
     "output_type": "execute_result"
    }
   ],
   "source": [
    "model_RF.best_params_"
   ]
  },
  {
   "cell_type": "code",
   "execution_count": 85,
   "metadata": {},
   "outputs": [],
   "source": [
    "RF_tuned = model_RF.best_estimator_\n",
    "y_tuned_RF = RF_tuned.predict(X_test)"
   ]
  },
  {
   "cell_type": "code",
   "execution_count": 86,
   "metadata": {},
   "outputs": [
    {
     "name": "stdout",
     "output_type": "stream",
     "text": [
      "R2 Score Random Forest Tuned = 0.6134868781229768\n",
      "MAE Random Forest Tuned = 147249.6424060784\n",
      "MSE Random Forest Tuned = 58431783009.50209\n",
      "RMSE Random Forest Tuned = 241726.67004181002\n"
     ]
    }
   ],
   "source": [
    "r2_tuned_RF = r2_score(y_test, y_tuned_RF)\n",
    "MAE_tuned_RF = mean_absolute_error(y_test, y_tuned_RF)\n",
    "MSE_tuned_RF = mean_squared_error(y_test, y_tuned_RF)\n",
    "RMSE_tuned_RF = np.sqrt(MSE_tuned_RF)\n",
    "\n",
    "\n",
    "print(f\"R2 Score Random Forest Tuned = {r2_tuned_RF}\")\n",
    "print(f\"MAE Random Forest Tuned = {MAE_tuned_RF}\")\n",
    "print(f\"MSE Random Forest Tuned = {MSE_tuned_RF}\")\n",
    "print(f\"RMSE Random Forest Tuned = {RMSE_tuned_RF}\")"
   ]
  },
  {
   "cell_type": "markdown",
   "metadata": {},
   "source": [
    "# Result Hyperparameter Tuning"
   ]
  },
  {
   "cell_type": "code",
   "execution_count": 87,
   "metadata": {},
   "outputs": [
    {
     "data": {
      "text/html": [
       "<div>\n",
       "<style scoped>\n",
       "    .dataframe tbody tr th:only-of-type {\n",
       "        vertical-align: middle;\n",
       "    }\n",
       "\n",
       "    .dataframe tbody tr th {\n",
       "        vertical-align: top;\n",
       "    }\n",
       "\n",
       "    .dataframe thead th {\n",
       "        text-align: right;\n",
       "    }\n",
       "</style>\n",
       "<table border=\"1\" class=\"dataframe\">\n",
       "  <thead>\n",
       "    <tr style=\"text-align: right;\">\n",
       "      <th></th>\n",
       "      <th>R2_Score</th>\n",
       "      <th>MAE</th>\n",
       "      <th>MSE</th>\n",
       "      <th>RMSE</th>\n",
       "    </tr>\n",
       "  </thead>\n",
       "  <tbody>\n",
       "    <tr>\n",
       "      <th>Linear Regression Tuned</th>\n",
       "      <td>0.586539</td>\n",
       "      <td>157911.860133</td>\n",
       "      <td>6.250565e+10</td>\n",
       "      <td>250011.297021</td>\n",
       "    </tr>\n",
       "    <tr>\n",
       "      <th>KNN Tuned</th>\n",
       "      <td>0.563773</td>\n",
       "      <td>163478.876789</td>\n",
       "      <td>6.594734e+10</td>\n",
       "      <td>256802.145117</td>\n",
       "    </tr>\n",
       "    <tr>\n",
       "      <th>Decision Tree Tuned</th>\n",
       "      <td>0.574295</td>\n",
       "      <td>154510.911168</td>\n",
       "      <td>6.435668e+10</td>\n",
       "      <td>253686.192797</td>\n",
       "    </tr>\n",
       "    <tr>\n",
       "      <th>Random Forest Tuned</th>\n",
       "      <td>0.613487</td>\n",
       "      <td>147249.642406</td>\n",
       "      <td>5.843178e+10</td>\n",
       "      <td>241726.670042</td>\n",
       "    </tr>\n",
       "  </tbody>\n",
       "</table>\n",
       "</div>"
      ],
      "text/plain": [
       "                         R2_Score            MAE           MSE           RMSE\n",
       "Linear Regression Tuned  0.586539  157911.860133  6.250565e+10  250011.297021\n",
       "KNN Tuned                0.563773  163478.876789  6.594734e+10  256802.145117\n",
       "Decision Tree Tuned      0.574295  154510.911168  6.435668e+10  253686.192797\n",
       "Random Forest Tuned      0.613487  147249.642406  5.843178e+10  241726.670042"
      ]
     },
     "execution_count": 87,
     "metadata": {},
     "output_type": "execute_result"
    }
   ],
   "source": [
    "result_tuned = {\n",
    "    \"Linear Regression Tuned\" : [R2_score_LR_tuned, MAE_LR_tuned, MSE_LR_tuned, RMSE_LR_tuned],\n",
    "    \"KNN Tuned\" : [r2_tuned_KNN, MAE_tuned_KNN, MSE_tuned_KNN, RMSE_tuned_KNN],\n",
    "    \"Decision Tree Tuned\" : [r2_tuned_DT, MAE_tuned_DT, MSE_tuned_DT, RMSE_tuned_DT],\n",
    "    \"Random Forest Tuned\" : [r2_tuned_RF, MAE_tuned_RF, MSE_tuned_RF, RMSE_tuned_RF]\n",
    "}\n",
    "\n",
    "pd.DataFrame(data= result_tuned, index=['R2_Score', 'MAE', 'MSE', 'RMSE']).T"
   ]
  },
  {
   "cell_type": "markdown",
   "metadata": {},
   "source": [
    "# Result Base Model"
   ]
  },
  {
   "cell_type": "code",
   "execution_count": 88,
   "metadata": {},
   "outputs": [
    {
     "data": {
      "text/html": [
       "<div>\n",
       "<style scoped>\n",
       "    .dataframe tbody tr th:only-of-type {\n",
       "        vertical-align: middle;\n",
       "    }\n",
       "\n",
       "    .dataframe tbody tr th {\n",
       "        vertical-align: top;\n",
       "    }\n",
       "\n",
       "    .dataframe thead th {\n",
       "        text-align: right;\n",
       "    }\n",
       "</style>\n",
       "<table border=\"1\" class=\"dataframe\">\n",
       "  <thead>\n",
       "    <tr style=\"text-align: right;\">\n",
       "      <th></th>\n",
       "      <th>R2_Score</th>\n",
       "      <th>MAE</th>\n",
       "      <th>MSE</th>\n",
       "      <th>RMSE</th>\n",
       "    </tr>\n",
       "  </thead>\n",
       "  <tbody>\n",
       "    <tr>\n",
       "      <th>Multiple Linear Regression (without scaling)</th>\n",
       "      <td>0.586539</td>\n",
       "      <td>157911.860133</td>\n",
       "      <td>6.250565e+10</td>\n",
       "      <td>250011.297021</td>\n",
       "    </tr>\n",
       "    <tr>\n",
       "      <th>Polynomial</th>\n",
       "      <td>0.586263</td>\n",
       "      <td>150436.337438</td>\n",
       "      <td>6.254741e+10</td>\n",
       "      <td>250094.811772</td>\n",
       "    </tr>\n",
       "    <tr>\n",
       "      <th>Decision Tree (without scaling)</th>\n",
       "      <td>0.315722</td>\n",
       "      <td>196382.934343</td>\n",
       "      <td>1.034469e+11</td>\n",
       "      <td>321631.629083</td>\n",
       "    </tr>\n",
       "    <tr>\n",
       "      <th>Random Forest</th>\n",
       "      <td>0.609520</td>\n",
       "      <td>148890.957140</td>\n",
       "      <td>5.903153e+10</td>\n",
       "      <td>242964.051276</td>\n",
       "    </tr>\n",
       "    <tr>\n",
       "      <th>KNN (Robust)</th>\n",
       "      <td>0.588514</td>\n",
       "      <td>154185.286745</td>\n",
       "      <td>6.220704e+10</td>\n",
       "      <td>249413.385050</td>\n",
       "    </tr>\n",
       "  </tbody>\n",
       "</table>\n",
       "</div>"
      ],
      "text/plain": [
       "                                              R2_Score            MAE  \\\n",
       "Multiple Linear Regression (without scaling)  0.586539  157911.860133   \n",
       "Polynomial                                    0.586263  150436.337438   \n",
       "Decision Tree (without scaling)               0.315722  196382.934343   \n",
       "Random Forest                                 0.609520  148890.957140   \n",
       "KNN (Robust)                                  0.588514  154185.286745   \n",
       "\n",
       "                                                       MSE           RMSE  \n",
       "Multiple Linear Regression (without scaling)  6.250565e+10  250011.297021  \n",
       "Polynomial                                    6.254741e+10  250094.811772  \n",
       "Decision Tree (without scaling)               1.034469e+11  321631.629083  \n",
       "Random Forest                                 5.903153e+10  242964.051276  \n",
       "KNN (Robust)                                  6.220704e+10  249413.385050  "
      ]
     },
     "execution_count": 88,
     "metadata": {},
     "output_type": "execute_result"
    }
   ],
   "source": [
    "result_MLR_Pol_DecTree_RF_KNN = {\n",
    "    \"Multiple Linear Regression (without scaling)\" : [R2_score_MLR, MAE_MLR, MSE_MLR, RMSE_MLR],\n",
    "    \"Polynomial\" : [R2_score_polynom, MAE_polynom, MSE_polynom, RMSE_polynom],\n",
    "    \"Decision Tree (without scaling)\" : [R2_score_DecTree, MAE_DecTree, MSE_DecTree, RMSE_DecTree],\n",
    "    \"Random Forest\" : [R2_score_RF, MAE_RF, MSE_RF, RMSE_RF],\n",
    "    \"KNN (Robust)\" : [R2_score_knn_r, MAE_knn_r, MSE_knn_r, RMSE_knn_r]\n",
    "}\n",
    "\n",
    "pd.DataFrame(data= result_MLR_Pol_DecTree_RF_KNN, index=['R2_Score', 'MAE', 'MSE', 'RMSE']).T"
   ]
  },
  {
   "cell_type": "markdown",
   "metadata": {},
   "source": [
    "## Conclusion and Recommendation"
   ]
  },
  {
   "cell_type": "markdown",
   "metadata": {},
   "source": [
    "1. Random Forest Tuned has the best R2 score than `Linear Regression Tuned`, `KNN Tuned`, `Decision Tree Tuned`."
   ]
  },
  {
   "cell_type": "code",
   "execution_count": 89,
   "metadata": {},
   "outputs": [
    {
     "data": {
      "image/png": "[encoded data removed]",
      "text/plain": [
       "<Figure size 432x288 with 1 Axes>"
      ]
     },
     "metadata": {
      "needs_background": "light"
     },
     "output_type": "display_data"
    }
   ],
   "source": [
    "models = ['LR Tuned', 'KNN Tuned', 'DT Tuned', 'RF Tuned']\n",
    "r2_score_all = [R2_score_LR_tuned,r2_tuned_KNN,  r2_tuned_DT, r2_tuned_RF]\n",
    "\n",
    "plt.bar(models, r2_score_all, color=['lightblue', 'pink', 'lightgrey', 'cyan'])\n",
    "plt.ylabel(\"R2 scores\")\n",
    "plt.title(\"Which model is the best?\")\n",
    "plt.show()"
   ]
  },
  {
   "cell_type": "code",
   "execution_count": null,
   "metadata": {},
   "outputs": [],
   "source": []
  }
 ],
 "metadata": {
  "kernelspec": {
   "display_name": "Python 3",
   "language": "python",
   "name": "python3"
  },
  "language_info": {
   "codemirror_mode": {
    "name": "ipython",
    "version": 3
   },
   "file_extension": ".py",
   "mimetype": "text/x-python",
   "name": "python",
   "nbconvert_exporter": "python",
   "pygments_lexer": "ipython3",
   "version": "3.7.6"
  }
 },
 "nbformat": 4,
 "nbformat_minor": 4
}
